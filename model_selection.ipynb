{
 "nbformat": 4,
 "nbformat_minor": 0,
 "metadata": {
  "kernelspec": {
   "display_name": "Python 3",
   "language": "python",
   "name": "python3"
  },
  "language_info": {
   "codemirror_mode": {
    "name": "ipython",
    "version": 2
   },
   "file_extension": ".py",
   "mimetype": "text/x-python",
   "name": "python",
   "nbconvert_exporter": "python",
   "pygments_lexer": "ipython2",
   "version": "2.7.6"
  },
  "colab": {
   "name": "model_selection.ipynb",
   "provenance": [],
   "collapsed_sections": []
  }
 },
 "cells": [
  {
   "cell_type": "code",
   "metadata": {
    "colab": {
     "base_uri": "https://localhost:8080/"
    },
    "id": "LdxHsD5YlHXV",
    "outputId": "9395586b-3f2a-4e93-99dc-6e27a98101ac"
   },
   "source": [
    "from google.colab import drive\n",
    "drive.mount('/content/drive')"
   ],
   "execution_count": 1,
   "outputs": [
    {
     "output_type": "stream",
     "text": [
      "Drive already mounted at /content/drive; to attempt to forcibly remount, call drive.mount(\"/content/drive\", force_remount=True).\n"
     ],
     "name": "stdout"
    }
   ]
  },
  {
   "cell_type": "code",
   "metadata": {
    "id": "p4jzqoENk5yF"
   },
   "source": [
    "!cp /content/drive/MyDrive/emd/test.csv .\n",
    "!cp /content/drive/MyDrive/emd/train.csv ."
   ],
   "execution_count": 2,
   "outputs": []
  },
  {
   "cell_type": "code",
   "metadata": {
    "collapsed": true,
    "id": "uMr3IhDWk4v4",
    "colab": {
     "base_uri": "https://localhost:8080/"
    },
    "outputId": "42399ed9-4971-426f-d801-f9e35979c06b"
   },
   "source": [
    "import pandas as pd\n",
    "import numpy as np\n",
    "from sklearn.feature_extraction.text import TfidfVectorizer\n",
    "from sklearn.model_selection import GridSearchCV\n",
    "from sklearn.pipeline import Pipeline\n",
    "from sklearn.naive_bayes import MultinomialNB\n",
    "from sklearn.naive_bayes import MultinomialNB\n",
    "from ast import literal_eval\n",
    "from sklearn.decomposition import TruncatedSVD\n",
    "from sklearn.model_selection import train_test_split\n",
    "from sklearn.svm import SVC\n",
    "from imblearn.under_sampling import RandomUnderSampler\n",
    "from sklearn.dummy import DummyClassifier\n",
    "from sklearn.model_selection import ParameterGrid\n",
    "from sklearn.metrics import f1_score\n",
    "import random\n",
    "from collections import Counter\n",
    "from sklearn.tree import DecisionTreeClassifier"
   ],
   "execution_count": 3,
   "outputs": [
    {
     "output_type": "stream",
     "text": [
      "/usr/local/lib/python3.6/dist-packages/sklearn/externals/six.py:31: FutureWarning: The module is deprecated in version 0.21 and will be removed in version 0.23 since we've dropped support for Python 2.7. Please rely on the official version of six (https://pypi.org/project/six/).\n",
      "  \"(https://pypi.org/project/six/).\", FutureWarning)\n",
      "/usr/local/lib/python3.6/dist-packages/sklearn/utils/deprecation.py:144: FutureWarning: The sklearn.neighbors.base module is  deprecated in version 0.22 and will be removed in version 0.24. The corresponding classes / functions should instead be imported from sklearn.neighbors. Anything that cannot be imported from sklearn.neighbors is now part of the private API.\n",
      "  warnings.warn(message, FutureWarning)\n"
     ],
     "name": "stderr"
    }
   ]
  },
  {
   "cell_type": "code",
   "metadata": {
    "id": "nvE-COzuMuo9"
   },
   "source": [
    "seed = 0\n",
    "random.seed(seed)\n",
    "np.random.seed(seed)"
   ],
   "execution_count": 4,
   "outputs": []
  },
  {
   "cell_type": "code",
   "metadata": {
    "pycharm": {
     "name": "#%%\n"
    },
    "id": "7Isj22BKk4v7"
   },
   "source": [
    "train_df = pd.read_csv(\"train.csv\")\n",
    "train_df = train_df[['text','score']]\n",
    "train_df['text'] = train_df['text'].apply(literal_eval)\n",
    "train_df['score'] = train_df['score'].astype(int)\n",
    "\n",
    "test_df = pd.read_csv(\"test.csv\")\n",
    "test_df = test_df[['text','score']]\n",
    "test_df['text'] = test_df['text'].apply(literal_eval)\n",
    "test_df['score'] = test_df['score'].astype(int)"
   ],
   "execution_count": 5,
   "outputs": []
  },
  {
   "cell_type": "code",
   "metadata": {
    "pycharm": {
     "name": "#%%\n"
    },
    "colab": {
     "base_uri": "https://localhost:8080/",
     "height": 197
    },
    "id": "0HbfvhX7k4v7",
    "outputId": "c9e7992d-41b8-41a3-c4e6-b832ad2e4b94"
   },
   "source": [
    "train_df.head()"
   ],
   "execution_count": null,
   "outputs": [
    {
     "output_type": "execute_result",
     "data": {
      "text/html": [
       "<div>\n",
       "<style scoped>\n",
       "    .dataframe tbody tr th:only-of-type {\n",
       "        vertical-align: middle;\n",
       "    }\n",
       "\n",
       "    .dataframe tbody tr th {\n",
       "        vertical-align: top;\n",
       "    }\n",
       "\n",
       "    .dataframe thead th {\n",
       "        text-align: right;\n",
       "    }\n",
       "</style>\n",
       "<table border=\"1\" class=\"dataframe\">\n",
       "  <thead>\n",
       "    <tr style=\"text-align: right;\">\n",
       "      <th></th>\n",
       "      <th>text</th>\n",
       "      <th>score</th>\n",
       "    </tr>\n",
       "  </thead>\n",
       "  <tbody>\n",
       "    <tr>\n",
       "      <th>0</th>\n",
       "      <td>[enjoy, game, enough, difficulti, keep, play, ...</td>\n",
       "      <td>4</td>\n",
       "    </tr>\n",
       "    <tr>\n",
       "      <th>1</th>\n",
       "      <td>[guess, good, app, like, realli, good, challen...</td>\n",
       "      <td>3</td>\n",
       "    </tr>\n",
       "    <tr>\n",
       "      <th>2</th>\n",
       "      <td>[never, would, expect, level, qualiti, got, ga...</td>\n",
       "      <td>4</td>\n",
       "    </tr>\n",
       "    <tr>\n",
       "      <th>3</th>\n",
       "      <td>[love, play, game, lot, fun, pa, time, quickli...</td>\n",
       "      <td>5</td>\n",
       "    </tr>\n",
       "    <tr>\n",
       "      <th>4</th>\n",
       "      <td>[great, game, grandson, love, dinosaur, eat, c...</td>\n",
       "      <td>5</td>\n",
       "    </tr>\n",
       "  </tbody>\n",
       "</table>\n",
       "</div>"
      ],
      "text/plain": [
       "                                                text  score\n",
       "0  [enjoy, game, enough, difficulti, keep, play, ...      4\n",
       "1  [guess, good, app, like, realli, good, challen...      3\n",
       "2  [never, would, expect, level, qualiti, got, ga...      4\n",
       "3  [love, play, game, lot, fun, pa, time, quickli...      5\n",
       "4  [great, game, grandson, love, dinosaur, eat, c...      5"
      ]
     },
     "metadata": {
      "tags": []
     },
     "execution_count": 6
    }
   ]
  },
  {
   "cell_type": "code",
   "metadata": {
    "id": "L-WNsIdQ2tiL",
    "colab": {
     "base_uri": "https://localhost:8080/"
    },
    "outputId": "5e3aa32c-3780-4a34-9801-7f6a9bc6fb5c"
   },
   "source": [
    "train_df['score']"
   ],
   "execution_count": null,
   "outputs": [
    {
     "output_type": "execute_result",
     "data": {
      "text/plain": [
       "0         4\n",
       "1         3\n",
       "2         4\n",
       "3         5\n",
       "4         5\n",
       "         ..\n",
       "500165    2\n",
       "500166    5\n",
       "500167    5\n",
       "500168    5\n",
       "500169    1\n",
       "Name: score, Length: 500170, dtype: int64"
      ]
     },
     "metadata": {
      "tags": []
     },
     "execution_count": 7
    }
   ]
  },
  {
   "cell_type": "code",
   "metadata": {
    "pycharm": {
     "name": "#%%\n"
    },
    "id": "QZeJWxmJk4v8"
   },
   "source": [
    "def dummy_fun(doc):\n",
    "    return doc\n",
    "\n",
    "tfidf = TfidfVectorizer(\n",
    "    analyzer='word',\n",
    "    tokenizer=dummy_fun,\n",
    "    preprocessor=dummy_fun,\n",
    "    token_pattern=None,\n",
    "    max_features=25000,\n",
    "    min_df = 5\n",
    "    )\n"
   ],
   "execution_count": 6,
   "outputs": []
  },
  {
   "cell_type": "code",
   "metadata": {
    "id": "ynLFZRU2DQ1R"
   },
   "source": [
    "pca = TruncatedSVD(n_components=500)"
   ],
   "execution_count": null,
   "outputs": []
  },
  {
   "cell_type": "code",
   "metadata": {
    "id": "rYBF0sCMAwCQ"
   },
   "source": [
    "X_train, X_val, y_train, y_val = train_test_split(train_df['text'].tolist(), train_df['score'], test_size=0.1, stratify=train_df['score'])"
   ],
   "execution_count": null,
   "outputs": []
  },
  {
   "cell_type": "code",
   "metadata": {
    "id": "AS-v319w2Yxg"
   },
   "source": [
    "X_train_tfidf = tfidf.fit_transform(X_train)\n",
    "X_val_tfidf = tfidf.transform(X_val)"
   ],
   "execution_count": null,
   "outputs": []
  },
  {
   "cell_type": "code",
   "metadata": {
    "colab": {
     "base_uri": "https://localhost:8080/"
    },
    "id": "O7gRQduN2kJT",
    "outputId": "36df67b9-4037-4213-bcf1-f55ce409125f"
   },
   "source": [
    "X_train_tfidf.shape"
   ],
   "execution_count": null,
   "outputs": [
    {
     "output_type": "execute_result",
     "data": {
      "text/plain": [
       "(450153, 17293)"
      ]
     },
     "metadata": {
      "tags": []
     },
     "execution_count": 12
    }
   ]
  },
  {
   "cell_type": "code",
   "metadata": {
    "colab": {
     "base_uri": "https://localhost:8080/"
    },
    "id": "Tf_sff6KBdFM",
    "outputId": "12eaae2c-11ff-4808-b5b5-fc1728a8bd30"
   },
   "source": [
    "X_val_tfidf.shape"
   ],
   "execution_count": null,
   "outputs": [
    {
     "output_type": "execute_result",
     "data": {
      "text/plain": [
       "(50017, 17293)"
      ]
     },
     "metadata": {
      "tags": []
     },
     "execution_count": 13
    }
   ]
  },
  {
   "cell_type": "code",
   "metadata": {
    "id": "nTkHlYCy7Ddw",
    "colab": {
     "base_uri": "https://localhost:8080/"
    },
    "outputId": "86f3b59e-d022-48f7-b75e-bb2a8803a558"
   },
   "source": [
    "X_train_pca = pca.fit_transform(X_train_tfidf)\n",
    "X_train_pca.shape"
   ],
   "execution_count": null,
   "outputs": [
    {
     "output_type": "execute_result",
     "data": {
      "text/plain": [
       "(450153, 500)"
      ]
     },
     "metadata": {
      "tags": []
     },
     "execution_count": 14
    }
   ]
  },
  {
   "cell_type": "code",
   "metadata": {
    "colab": {
     "base_uri": "https://localhost:8080/"
    },
    "id": "u4hS5AHd7KCL",
    "outputId": "c8f254f6-e651-4f9f-969d-be94e631d08d"
   },
   "source": [
    "X_val_pca = pca.transform(X_val_tfidf)\n",
    "X_val_pca.shape"
   ],
   "execution_count": null,
   "outputs": [
    {
     "output_type": "execute_result",
     "data": {
      "text/plain": [
       "(50017, 500)"
      ]
     },
     "metadata": {
      "tags": []
     },
     "execution_count": 15
    }
   ]
  },
  {
   "cell_type": "code",
   "metadata": {
    "colab": {
     "base_uri": "https://localhost:8080/"
    },
    "id": "P72OhlCU_Br0",
    "outputId": "a365f5b0-ef9b-4944-90c7-f1068f11be5c"
   },
   "source": [
    "np.sum(pca.explained_variance_ratio_)"
   ],
   "execution_count": null,
   "outputs": [
    {
     "output_type": "execute_result",
     "data": {
      "text/plain": [
       "0.5574000819080314"
      ]
     },
     "metadata": {
      "tags": []
     },
     "execution_count": 16
    }
   ]
  },
  {
   "cell_type": "code",
   "metadata": {
    "colab": {
     "base_uri": "https://localhost:8080/"
    },
    "id": "7i_zmIeJLeka",
    "outputId": "685a5a96-c653-4cf6-9ee5-7851297ad549"
   },
   "source": [
    "rus = RandomUnderSampler(random_state=42)\n",
    "X_res_pca, y_res_pca = rus.fit_resample(X_train_pca, y_train)\n",
    "X_res_pca.shape"
   ],
   "execution_count": null,
   "outputs": [
    {
     "output_type": "stream",
     "text": [
      "/usr/local/lib/python3.6/dist-packages/sklearn/utils/deprecation.py:87: FutureWarning: Function safe_indexing is deprecated; safe_indexing is deprecated in version 0.22 and will be removed in version 0.24.\n",
      "  warnings.warn(msg, category=FutureWarning)\n"
     ],
     "name": "stderr"
    },
    {
     "output_type": "execute_result",
     "data": {
      "text/plain": [
       "(136625, 500)"
      ]
     },
     "metadata": {
      "tags": []
     },
     "execution_count": 17
    }
   ]
  },
  {
   "cell_type": "code",
   "metadata": {
    "colab": {
     "base_uri": "https://localhost:8080/"
    },
    "id": "o94zW7F5M0Si",
    "outputId": "38522be1-39f3-4b9e-c42d-ca1381468388"
   },
   "source": [
    "print(Counter(y_res_pca))\n",
    "print(Counter(y_train))"
   ],
   "execution_count": null,
   "outputs": [
    {
     "output_type": "stream",
     "text": [
      "Counter({1: 27325, 2: 27325, 3: 27325, 4: 27325, 5: 27325})\n",
      "Counter({5: 227969, 4: 94393, 3: 51753, 1: 48713, 2: 27325})\n"
     ],
     "name": "stdout"
    }
   ]
  },
  {
   "cell_type": "code",
   "metadata": {
    "colab": {
     "base_uri": "https://localhost:8080/"
    },
    "id": "_iQOVfbMLjK8",
    "outputId": "c6496662-70ca-4841-e545-adb194d38a2d"
   },
   "source": [
    "rus = RandomUnderSampler(random_state=42)\n",
    "X_res_tfidf, y_res_tfidf = rus.fit_resample(X_train_tfidf, y_train)\n",
    "X_res_tfidf.shape"
   ],
   "execution_count": null,
   "outputs": [
    {
     "output_type": "stream",
     "text": [
      "/usr/local/lib/python3.6/dist-packages/sklearn/utils/deprecation.py:87: FutureWarning: Function safe_indexing is deprecated; safe_indexing is deprecated in version 0.22 and will be removed in version 0.24.\n",
      "  warnings.warn(msg, category=FutureWarning)\n"
     ],
     "name": "stderr"
    },
    {
     "output_type": "execute_result",
     "data": {
      "text/plain": [
       "(136625, 17293)"
      ]
     },
     "metadata": {
      "tags": []
     },
     "execution_count": 19
    }
   ]
  },
  {
   "cell_type": "code",
   "metadata": {
    "pycharm": {
     "name": "#%%\n"
    },
    "colab": {
     "base_uri": "https://localhost:8080/"
    },
    "id": "0uxrNMBFk4v_",
    "outputId": "1a5ed409-1a4b-4f5d-a0c4-6e4bd3716db3"
   },
   "source": [
    "param_grid = {\n",
    "    'strategy': ['stratified', 'prior'],\n",
    "}\n",
    "\n",
    "for params in ParameterGrid(param_grid):\n",
    "    clf = DummyClassifier(**params) \n",
    "    clf.fit(X_train_tfidf, y_train)\n",
    "    y_pred = clf.predict(X_val_tfidf)\n",
    "    score = f1_score(y_pred, y_val, average='macro')\n",
    "    print(params, score)\n"
   ],
   "execution_count": null,
   "outputs": [
    {
     "output_type": "stream",
     "text": [
      "{'strategy': 'stratified'} 0.19815782735144583\n",
      "{'strategy': 'prior'} 0.13447118000716685\n"
     ],
     "name": "stdout"
    }
   ]
  },
  {
   "cell_type": "code",
   "metadata": {
    "colab": {
     "base_uri": "https://localhost:8080/"
    },
    "id": "TDiVrvraNB16",
    "outputId": "877e1417-0416-4ee5-c56d-a61c7946e0b1"
   },
   "source": [
    "for params in ParameterGrid(param_grid):\n",
    "    clf = DummyClassifier(**params) \n",
    "    clf.fit(X_res_tfidf, y_res_tfidf)\n",
    "    y_pred = clf.predict(X_val_tfidf)\n",
    "    score = f1_score(y_pred, y_val, average='macro')\n",
    "    print(params, score)\n"
   ],
   "execution_count": null,
   "outputs": [
    {
     "output_type": "stream",
     "text": [
      "{'strategy': 'stratified'} 0.17370364636779578\n",
      "{'strategy': 'prior'} 0.03906187984845751\n"
     ],
     "name": "stdout"
    }
   ]
  },
  {
   "cell_type": "code",
   "metadata": {
    "colab": {
     "base_uri": "https://localhost:8080/"
    },
    "id": "X7-8uHEpmkUq",
    "outputId": "e769c912-9b27-4dc4-d3ed-26d74b709642"
   },
   "source": [
    "param_grid = {\n",
    "    'alpha': [0.001, 0.05, 0.1, 0.2, 0.5, 1, 2],\n",
    "}\n",
    "\n",
    "for params in ParameterGrid(param_grid):\n",
    "    clf = MultinomialNB(**params) \n",
    "    clf.fit(X_train_tfidf, y_train)\n",
    "    y_pred = clf.predict(X_val_tfidf)\n",
    "    score = f1_score(y_pred, y_val, average='macro')\n",
    "    print(params, score)"
   ],
   "execution_count": null,
   "outputs": [
    {
     "output_type": "stream",
     "text": [
      "{'alpha': 0.001} 0.3116103412435585\n",
      "{'alpha': 0.05} 0.3105122059734735\n",
      "{'alpha': 0.1} 0.3096435542997257\n",
      "{'alpha': 0.2} 0.30806679975607076\n",
      "{'alpha': 0.5} 0.301379733457689\n",
      "{'alpha': 1} 0.2929292238707383\n",
      "{'alpha': 2} 0.2712695013337552\n"
     ],
     "name": "stdout"
    }
   ]
  },
  {
   "cell_type": "code",
   "metadata": {
    "colab": {
     "base_uri": "https://localhost:8080/"
    },
    "id": "_0AjZuZrNcuF",
    "outputId": "3f5c0d8a-c6fc-497c-f8c1-7a013a7eddff"
   },
   "source": [
    "param_grid = {\n",
    "    'alpha': [0.001, 0.05, 0.1, 0.2, 0.5, 1, 2, 3, 5, 10, 20, 50, 100],\n",
    "}\n",
    "for params in ParameterGrid(param_grid):\n",
    "    clf = MultinomialNB(**params) \n",
    "    clf.fit(X_res_tfidf, y_res_tfidf)\n",
    "    y_pred = clf.predict(X_val_tfidf)\n",
    "    score = f1_score(y_pred, y_val, average='macro')\n",
    "    print(params, score)"
   ],
   "execution_count": null,
   "outputs": [
    {
     "output_type": "stream",
     "text": [
      "{'alpha': 0.001} 0.405449763664446\n",
      "{'alpha': 0.05} 0.4109673796708053\n",
      "{'alpha': 0.1} 0.4135537938840884\n",
      "{'alpha': 0.2} 0.41658281585262247\n",
      "{'alpha': 0.5} 0.42297322755791866\n",
      "{'alpha': 1} 0.4270143027427464\n",
      "{'alpha': 2} 0.4303982505030586\n",
      "{'alpha': 3} 0.4316434716901316\n",
      "{'alpha': 5} 0.4326376702462345\n",
      "{'alpha': 10} 0.4332916141108399\n",
      "{'alpha': 20} 0.43458317379076616\n",
      "{'alpha': 50} 0.43465836812671893\n",
      "{'alpha': 100} 0.4342996523466809\n"
     ],
     "name": "stdout"
    }
   ]
  },
  {
   "cell_type": "code",
   "metadata": {
    "colab": {
     "base_uri": "https://localhost:8080/"
    },
    "id": "5_N2WUypRo0H",
    "outputId": "825c6f0d-ecfa-459b-d57c-161eb00fd5e3"
   },
   "source": [
    "samples = {i:2000 for i in [1,2,3,4,5]}\n",
    "rus = RandomUnderSampler(samples, random_state=42)\n",
    "X_knn, y_knn = rus.fit_resample(X_train_pca, y_train)\n",
    "X_knn.shape"
   ],
   "execution_count": null,
   "outputs": [
    {
     "output_type": "stream",
     "text": [
      "/usr/local/lib/python3.6/dist-packages/sklearn/utils/deprecation.py:87: FutureWarning: Function safe_indexing is deprecated; safe_indexing is deprecated in version 0.22 and will be removed in version 0.24.\n",
      "  warnings.warn(msg, category=FutureWarning)\n"
     ],
     "name": "stderr"
    },
    {
     "output_type": "execute_result",
     "data": {
      "text/plain": [
       "(10000, 500)"
      ]
     },
     "metadata": {
      "tags": []
     },
     "execution_count": 24
    }
   ]
  },
  {
   "cell_type": "code",
   "metadata": {
    "colab": {
     "base_uri": "https://localhost:8080/"
    },
    "id": "lt1xb4evpwSM",
    "outputId": "cdb1fb2d-b158-49b0-9d2a-bc3033ba2da8"
   },
   "source": [
    "param_grid = {\n",
    "    'min_samples_split': [2, 3, 5],\n",
    "}\n",
    "for params in ParameterGrid(param_grid):\n",
    "    clf = DecisionTreeClassifier(**params) \n",
    "    clf.fit(X_res_tfidf, y_res_tfidf)\n",
    "    y_pred = clf.predict(X_val_tfidf)\n",
    "    score = f1_score(y_pred, y_val, average='macro')\n",
    "    print(params, score)"
   ],
   "execution_count": null,
   "outputs": [
    {
     "output_type": "stream",
     "text": [
      "{'min_samples_split': 2} 0.3251900639418596\n",
      "{'min_samples_split': 3} 0.32145652866840013\n",
      "{'min_samples_split': 5} 0.31938574138312215\n"
     ],
     "name": "stdout"
    }
   ]
  },
  {
   "cell_type": "code",
   "metadata": {
    "colab": {
     "base_uri": "https://localhost:8080/"
    },
    "id": "LFrjIvC2nRoV",
    "outputId": "f17dd3f2-b8be-4f2e-b5dd-b797f96c08d7"
   },
   "source": [
    "param_grid = {\n",
    "    'min_samples_split': [2, 3, 5],\n",
    "}\n",
    "for params in ParameterGrid(param_grid):\n",
    "    clf = DecisionTreeClassifier(**params) \n",
    "    clf.fit(X_train_tfidf, y_train)\n",
    "    y_pred = clf.predict(X_val_tfidf)\n",
    "    score = f1_score(y_pred, y_val, average='macro')\n",
    "    print(params, score)"
   ],
   "execution_count": null,
   "outputs": [
    {
     "output_type": "stream",
     "text": [
      "{'min_samples_split': 2} 0.35363003838205803\n",
      "{'min_samples_split': 3} 0.3514380325448645\n",
      "{'min_samples_split': 5} 0.352342260200576\n"
     ],
     "name": "stdout"
    }
   ]
  },
  {
   "cell_type": "code",
   "metadata": {
    "colab": {
     "base_uri": "https://localhost:8080/"
    },
    "id": "sF5fwAklkjGE",
    "outputId": "1928107c-3be2-4b42-a852-5dfe42867101"
   },
   "source": [
    "param_grid = {\n",
    "    'min_samples_split': [2, 3, 5],\n",
    "}\n",
    "for params in ParameterGrid(param_grid):\n",
    "    clf = DecisionTreeClassifier(**params) \n",
    "    clf.fit(X_res_pca, y_res_pca)\n",
    "    y_pred = clf.predict(X_val_pca)\n",
    "    score = f1_score(y_pred, y_val, average='macro')\n",
    "    print(params, score)"
   ],
   "execution_count": null,
   "outputs": [
    {
     "output_type": "stream",
     "text": [
      "{'min_samples_split': 2} 0.2602301003001158\n",
      "{'min_samples_split': 3} 0.2614235248190827\n",
      "{'min_samples_split': 5} 0.2573782273237038\n"
     ],
     "name": "stdout"
    }
   ]
  },
  {
   "cell_type": "code",
   "metadata": {
    "colab": {
     "base_uri": "https://localhost:8080/"
    },
    "id": "1ovOorrqo8M9",
    "outputId": "3ac521b8-edcf-48e7-f333-60ba84500ad0"
   },
   "source": [
    "param_grid = {\n",
    "    'C': [0.1, 1, 10],\n",
    "}\n",
    "for params in ParameterGrid(param_grid):\n",
    "    clf = SVC(verbose=True, **params) \n",
    "    clf.fit(X_res_pca, y_res_pca)\n",
    "    y_pred = clf.predict(X_val_pca)\n",
    "    score = f1_score(y_pred, y_val, average='macro')\n",
    "    print(params, score)"
   ],
   "execution_count": null,
   "outputs": [
    {
     "output_type": "stream",
     "text": [
      "[LibSVM]"
     ],
     "name": "stdout"
    }
   ]
  },
  {
   "cell_type": "markdown",
   "metadata": {
    "id": "KvMEbm8Y9awz"
   },
   "source": [
    "### TEST"
   ]
  },
  {
   "cell_type": "code",
   "metadata": {
    "id": "fxOIjw9zFpSg"
   },
   "source": [
    "X_train_tfidf = tfidf.fit_transform(train_df['text'].tolist())\n",
    "X_test_tfidf = tfidf.transform(test_df['text'].tolist())"
   ],
   "execution_count": 7,
   "outputs": []
  },
  {
   "cell_type": "code",
   "metadata": {
    "colab": {
     "base_uri": "https://localhost:8080/"
    },
    "id": "jtWFrkNqGH2A",
    "outputId": "a047d58f-dc5e-4e20-f73b-9467b220d8f4"
   },
   "source": [
    "X_train_tfidf.shape"
   ],
   "execution_count": 8,
   "outputs": [
    {
     "output_type": "execute_result",
     "data": {
      "text/plain": [
       "(500170, 18223)"
      ]
     },
     "metadata": {
      "tags": []
     },
     "execution_count": 8
    }
   ]
  },
  {
   "cell_type": "code",
   "metadata": {
    "colab": {
     "base_uri": "https://localhost:8080/"
    },
    "id": "H_LVLXpCF7-0",
    "outputId": "f5f7cfe9-0744-40ac-fabf-5e334013051e"
   },
   "source": [
    "rus = RandomUnderSampler(random_state=42)\n",
    "X_res, y_res = rus.fit_resample(X_train_tfidf, train_df['score'])\n",
    "X_res.shape"
   ],
   "execution_count": 9,
   "outputs": [
    {
     "output_type": "stream",
     "text": [
      "/usr/local/lib/python3.6/dist-packages/sklearn/utils/deprecation.py:87: FutureWarning: Function safe_indexing is deprecated; safe_indexing is deprecated in version 0.22 and will be removed in version 0.24.\n",
      "  warnings.warn(msg, category=FutureWarning)\n"
     ],
     "name": "stderr"
    },
    {
     "output_type": "execute_result",
     "data": {
      "text/plain": [
       "(151805, 18223)"
      ]
     },
     "metadata": {
      "tags": []
     },
     "execution_count": 9
    }
   ]
  },
  {
   "cell_type": "code",
   "metadata": {
    "colab": {
     "base_uri": "https://localhost:8080/"
    },
    "id": "fzCYLx6tGUgo",
    "outputId": "f21d0a5f-8b67-49d2-e21b-795aa9f5f181"
   },
   "source": [
    "clf = DummyClassifier(strategy='stratified') \n",
    "clf.fit(X_train_tfidf, train_df['score'])\n",
    "y_pred = clf.predict(X_test_tfidf)\n",
    "score = f1_score(test_df['score'], y_pred, average='macro')\n",
    "print(score)"
   ],
   "execution_count": 12,
   "outputs": [
    {
     "output_type": "stream",
     "text": [
      "0.19650686535914377\n"
     ],
     "name": "stdout"
    }
   ]
  },
  {
   "cell_type": "code",
   "metadata": {
    "colab": {
     "base_uri": "https://localhost:8080/"
    },
    "id": "pX8wLHC_J7UO",
    "outputId": "2cb01c5a-745e-42f6-9dd6-f37af9e5083c"
   },
   "source": [
    "nb = MultinomialNB(alpha=50)\n",
    "nb.fit(X_res, y_res)\n",
    "nb_pred = nb.predict(X_test_tfidf)\n",
    "score_nb = f1_score(test_df['score'],nb_pred,average='macro')\n",
    "print('score nb', score_nb)"
   ],
   "execution_count": 13,
   "outputs": [
    {
     "output_type": "stream",
     "text": [
      "score nb 0.43327584677084496\n"
     ],
     "name": "stdout"
    }
   ]
  },
  {
   "cell_type": "code",
   "metadata": {
    "colab": {
     "base_uri": "https://localhost:8080/"
    },
    "id": "cOrDZ_Rm9bLW",
    "outputId": "31263de9-365d-4f7e-d9cc-d316cb833405"
   },
   "source": [
    "tree = DecisionTreeClassifier(min_samples_split=2)\n",
    "tree.fit(X_train_tfidf, train_df['score'])\n",
    "tree_pred = tree.predict(X_test_tfidf)\n",
    "score_tree = f1_score( test_df['score'],tree_pred,average='macro')\n",
    "print('score treee', score_tree)"
   ],
   "execution_count": 14,
   "outputs": [
    {
     "output_type": "stream",
     "text": [
      "score treee 0.35383580116759833\n"
     ],
     "name": "stdout"
    }
   ]
  },
  {
   "cell_type": "code",
   "metadata": {
    "id": "fyuSiH_WNpYL"
   },
   "source": [
    ""
   ],
   "execution_count": null,
   "outputs": []
  }
 ]
}