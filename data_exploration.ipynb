{
 "cells": [
  {
   "cell_type": "code",
   "execution_count": 1,
   "outputs": [],
   "source": [
    "import random\n",
    "import re\n",
    "import string\n",
    "\n",
    "import numpy as np\n",
    "import pandas as pd\n",
    "import seaborn as sns\n",
    "import spacy\n",
    "from nltk import WordNetLemmatizer, PorterStemmer\n",
    "from nltk.corpus import stopwords\n",
    "from sklearn.model_selection import train_test_split\n",
    "\n",
    "sns.set_style('darkgrid')\n",
    "sns.set_context('paper')\n",
    "\n",
    "seed = 0\n",
    "random.seed(seed)\n",
    "np.random.seed(seed)"
   ],
   "metadata": {
    "collapsed": false,
    "pycharm": {
     "name": "#%%\n"
    }
   }
  },
  {
   "cell_type": "code",
   "execution_count": 2,
   "outputs": [
    {
     "data": {
      "text/plain": "       reviewerID        asin                     reviewerName helpful  \\\n0  A35C43YE9HU9CN  B0064X7B4A                      Joan Miller  [0, 0]   \n1   AHFS8CGWWXB5B  B00H1P4V3E                   WASH ST. GAMER  [3, 4]   \n2  A3EW8OTQ90NVHM  B00CLVW82O                  Kindle Customer  [0, 4]   \n3   AJ3GHFJY1IUTD  B007T9WVKM                     BrawlMaster4  [0, 2]   \n4  A3JJGBS4EL603S  B00J206J5E              K. Wilson \"thesupe\"  [0, 0]   \n5  A3RL7Y2FJBDHJ0  B006H7TC3Q                               hi  [2, 5]   \n6   AUHVMC0PURGO8  B006R6VG9K                     A.Mccullough  [0, 0]   \n7  A1Z37DUIWXJNLN  B00B63HT8Q  Julie Quick \"Beach Bum Wannabe\"  [0, 0]   \n8   AF7ZE5MRM6CW2  B00BL0I7WG                             T.dd  [0, 0]   \n9  A1TTH51E2651BJ  B00GRXA7GG                             Joni  [0, 0]   \n\n                                          reviewText  \\\n0  I have decided not to play this game.  I can't...   \n1  The Amazon Appstore free app of the day for Ju...   \n2  this game was so mush fun I wish I could play ...   \n3  Its pretty fun and very good looking,  but you...   \n4  good graphics; immersive storyline; hard to st...   \n5  its very good.u use fotos on ur device and it ...   \n6  the game is very fun and fast paced. It also k...   \n7  great app!  A quick look at the weather... not...   \n8  So fare I like it haven't had it long enough t...   \n9  This classic Mahjong comes with nice graphics ...   \n\n                                             summary  unixReviewTime  \\\n0                                            Friends      1396396800   \n1  Amazon Makes This \"Longest Spring Ever\" for Fi...      1402272000   \n2                                               best      1368921600   \n3                                           Fun Game      1350172800   \n4                                        great game!      1396915200   \n5                                          very good      1337817600   \n6                                 fun and fast paced      1401926400   \n7  A great alternative to the current (stupid) ve...      1377388800   \n8                                           easy fun      1369612800   \n9                                    Mahjong Premium      1394841600   \n\n    reviewTime  score  \n0   04 2, 2014    1.0  \n1   06 9, 2014    2.0  \n2  05 19, 2013    5.0  \n3  10 14, 2012    5.0  \n4   04 8, 2014    5.0  \n5  05 24, 2012    5.0  \n6   06 5, 2014    5.0  \n7  08 25, 2013    4.0  \n8  05 27, 2013    5.0  \n9  03 15, 2014    5.0  ",
      "text/html": "<div>\n<style scoped>\n    .dataframe tbody tr th:only-of-type {\n        vertical-align: middle;\n    }\n\n    .dataframe tbody tr th {\n        vertical-align: top;\n    }\n\n    .dataframe thead th {\n        text-align: right;\n    }\n</style>\n<table border=\"1\" class=\"dataframe\">\n  <thead>\n    <tr style=\"text-align: right;\">\n      <th></th>\n      <th>reviewerID</th>\n      <th>asin</th>\n      <th>reviewerName</th>\n      <th>helpful</th>\n      <th>reviewText</th>\n      <th>summary</th>\n      <th>unixReviewTime</th>\n      <th>reviewTime</th>\n      <th>score</th>\n    </tr>\n  </thead>\n  <tbody>\n    <tr>\n      <th>0</th>\n      <td>A35C43YE9HU9CN</td>\n      <td>B0064X7B4A</td>\n      <td>Joan Miller</td>\n      <td>[0, 0]</td>\n      <td>I have decided not to play this game.  I can't...</td>\n      <td>Friends</td>\n      <td>1396396800</td>\n      <td>04 2, 2014</td>\n      <td>1.0</td>\n    </tr>\n    <tr>\n      <th>1</th>\n      <td>AHFS8CGWWXB5B</td>\n      <td>B00H1P4V3E</td>\n      <td>WASH ST. GAMER</td>\n      <td>[3, 4]</td>\n      <td>The Amazon Appstore free app of the day for Ju...</td>\n      <td>Amazon Makes This \"Longest Spring Ever\" for Fi...</td>\n      <td>1402272000</td>\n      <td>06 9, 2014</td>\n      <td>2.0</td>\n    </tr>\n    <tr>\n      <th>2</th>\n      <td>A3EW8OTQ90NVHM</td>\n      <td>B00CLVW82O</td>\n      <td>Kindle Customer</td>\n      <td>[0, 4]</td>\n      <td>this game was so mush fun I wish I could play ...</td>\n      <td>best</td>\n      <td>1368921600</td>\n      <td>05 19, 2013</td>\n      <td>5.0</td>\n    </tr>\n    <tr>\n      <th>3</th>\n      <td>AJ3GHFJY1IUTD</td>\n      <td>B007T9WVKM</td>\n      <td>BrawlMaster4</td>\n      <td>[0, 2]</td>\n      <td>Its pretty fun and very good looking,  but you...</td>\n      <td>Fun Game</td>\n      <td>1350172800</td>\n      <td>10 14, 2012</td>\n      <td>5.0</td>\n    </tr>\n    <tr>\n      <th>4</th>\n      <td>A3JJGBS4EL603S</td>\n      <td>B00J206J5E</td>\n      <td>K. Wilson \"thesupe\"</td>\n      <td>[0, 0]</td>\n      <td>good graphics; immersive storyline; hard to st...</td>\n      <td>great game!</td>\n      <td>1396915200</td>\n      <td>04 8, 2014</td>\n      <td>5.0</td>\n    </tr>\n    <tr>\n      <th>5</th>\n      <td>A3RL7Y2FJBDHJ0</td>\n      <td>B006H7TC3Q</td>\n      <td>hi</td>\n      <td>[2, 5]</td>\n      <td>its very good.u use fotos on ur device and it ...</td>\n      <td>very good</td>\n      <td>1337817600</td>\n      <td>05 24, 2012</td>\n      <td>5.0</td>\n    </tr>\n    <tr>\n      <th>6</th>\n      <td>AUHVMC0PURGO8</td>\n      <td>B006R6VG9K</td>\n      <td>A.Mccullough</td>\n      <td>[0, 0]</td>\n      <td>the game is very fun and fast paced. It also k...</td>\n      <td>fun and fast paced</td>\n      <td>1401926400</td>\n      <td>06 5, 2014</td>\n      <td>5.0</td>\n    </tr>\n    <tr>\n      <th>7</th>\n      <td>A1Z37DUIWXJNLN</td>\n      <td>B00B63HT8Q</td>\n      <td>Julie Quick \"Beach Bum Wannabe\"</td>\n      <td>[0, 0]</td>\n      <td>great app!  A quick look at the weather... not...</td>\n      <td>A great alternative to the current (stupid) ve...</td>\n      <td>1377388800</td>\n      <td>08 25, 2013</td>\n      <td>4.0</td>\n    </tr>\n    <tr>\n      <th>8</th>\n      <td>AF7ZE5MRM6CW2</td>\n      <td>B00BL0I7WG</td>\n      <td>T.dd</td>\n      <td>[0, 0]</td>\n      <td>So fare I like it haven't had it long enough t...</td>\n      <td>easy fun</td>\n      <td>1369612800</td>\n      <td>05 27, 2013</td>\n      <td>5.0</td>\n    </tr>\n    <tr>\n      <th>9</th>\n      <td>A1TTH51E2651BJ</td>\n      <td>B00GRXA7GG</td>\n      <td>Joni</td>\n      <td>[0, 0]</td>\n      <td>This classic Mahjong comes with nice graphics ...</td>\n      <td>Mahjong Premium</td>\n      <td>1394841600</td>\n      <td>03 15, 2014</td>\n      <td>5.0</td>\n    </tr>\n  </tbody>\n</table>\n</div>"
     },
     "execution_count": 2,
     "metadata": {},
     "output_type": "execute_result"
    }
   ],
   "source": [
    "df = pd.read_csv('reviews_train.csv')\n",
    "df.head(10)\n"
   ],
   "metadata": {
    "collapsed": false,
    "pycharm": {
     "name": "#%%\n"
    }
   }
  },
  {
   "cell_type": "code",
   "execution_count": 3,
   "outputs": [
    {
     "data": {
      "text/plain": "reviewerID         0\nasin               0\nreviewerName      14\nhelpful            0\nreviewText         8\nsummary           24\nunixReviewTime     0\nreviewTime         0\nscore              0\ndtype: int64"
     },
     "execution_count": 3,
     "metadata": {},
     "output_type": "execute_result"
    }
   ],
   "source": [
    "df.isnull().sum()"
   ],
   "metadata": {
    "collapsed": false,
    "pycharm": {
     "name": "#%%\n"
    }
   }
  },
  {
   "cell_type": "code",
   "execution_count": 5,
   "outputs": [
    {
     "name": "stdout",
     "output_type": "stream",
     "text": [
      "555791\n"
     ]
    },
    {
     "data": {
      "text/plain": "555745"
     },
     "execution_count": 5,
     "metadata": {},
     "output_type": "execute_result"
    }
   ],
   "source": [
    "print(len(df))\n",
    "df = df.dropna()\n",
    "len(df)"
   ],
   "metadata": {
    "collapsed": false,
    "pycharm": {
     "name": "#%%\n"
    }
   }
  },
  {
   "cell_type": "code",
   "execution_count": 6,
   "outputs": [],
   "source": [
    "df['reviewText'] = df['reviewText'].apply(str)"
   ],
   "metadata": {
    "collapsed": false,
    "pycharm": {
     "name": "#%%\n"
    }
   }
  },
  {
   "cell_type": "code",
   "execution_count": 7,
   "outputs": [
    {
     "data": {
      "text/plain": "<Figure size 360x360 with 1 Axes>",
      "image/png": "[encoded data removed]"
     },
     "metadata": {},
     "output_type": "display_data"
    }
   ],
   "source": [
    "sns.displot(df, x='score', discrete=True).savefig('img/dist.png')"
   ],
   "metadata": {
    "collapsed": false,
    "pycharm": {
     "name": "#%%\n"
    }
   }
  },
  {
   "cell_type": "code",
   "execution_count": 8,
   "outputs": [
    {
     "data": {
      "text/plain": "       reviewerID        asin                     reviewerName helpful  \\\n0  A35C43YE9HU9CN  B0064X7B4A                      Joan Miller  [0, 0]   \n1   AHFS8CGWWXB5B  B00H1P4V3E                   WASH ST. GAMER  [3, 4]   \n2  A3EW8OTQ90NVHM  B00CLVW82O                  Kindle Customer  [0, 4]   \n3   AJ3GHFJY1IUTD  B007T9WVKM                     BrawlMaster4  [0, 2]   \n4  A3JJGBS4EL603S  B00J206J5E              K. Wilson \"thesupe\"  [0, 0]   \n5  A3RL7Y2FJBDHJ0  B006H7TC3Q                               hi  [2, 5]   \n6   AUHVMC0PURGO8  B006R6VG9K                     A.Mccullough  [0, 0]   \n7  A1Z37DUIWXJNLN  B00B63HT8Q  Julie Quick \"Beach Bum Wannabe\"  [0, 0]   \n8   AF7ZE5MRM6CW2  B00BL0I7WG                             T.dd  [0, 0]   \n9  A1TTH51E2651BJ  B00GRXA7GG                             Joni  [0, 0]   \n\n                                          reviewText  \\\n0  I have decided not to play this game.  I can't...   \n1  The Amazon Appstore free app of the day for Ju...   \n2  this game was so mush fun I wish I could play ...   \n3  Its pretty fun and very good looking,  but you...   \n4  good graphics; immersive storyline; hard to st...   \n5  its very good.u use fotos on ur device and it ...   \n6  the game is very fun and fast paced. It also k...   \n7  great app!  A quick look at the weather... not...   \n8  So fare I like it haven't had it long enough t...   \n9  This classic Mahjong comes with nice graphics ...   \n\n                                             summary  unixReviewTime  \\\n0                                            Friends      1396396800   \n1  Amazon Makes This \"Longest Spring Ever\" for Fi...      1402272000   \n2                                               best      1368921600   \n3                                           Fun Game      1350172800   \n4                                        great game!      1396915200   \n5                                          very good      1337817600   \n6                                 fun and fast paced      1401926400   \n7  A great alternative to the current (stupid) ve...      1377388800   \n8                                           easy fun      1369612800   \n9                                    Mahjong Premium      1394841600   \n\n    reviewTime  score  h1  h2  diff_h  \n0   04 2, 2014    1.0   0   0       0  \n1   06 9, 2014    2.0   3   4       1  \n2  05 19, 2013    5.0   0   4       4  \n3  10 14, 2012    5.0   0   2       2  \n4   04 8, 2014    5.0   0   0       0  \n5  05 24, 2012    5.0   2   5       3  \n6   06 5, 2014    5.0   0   0       0  \n7  08 25, 2013    4.0   0   0       0  \n8  05 27, 2013    5.0   0   0       0  \n9  03 15, 2014    5.0   0   0       0  ",
      "text/html": "<div>\n<style scoped>\n    .dataframe tbody tr th:only-of-type {\n        vertical-align: middle;\n    }\n\n    .dataframe tbody tr th {\n        vertical-align: top;\n    }\n\n    .dataframe thead th {\n        text-align: right;\n    }\n</style>\n<table border=\"1\" class=\"dataframe\">\n  <thead>\n    <tr style=\"text-align: right;\">\n      <th></th>\n      <th>reviewerID</th>\n      <th>asin</th>\n      <th>reviewerName</th>\n      <th>helpful</th>\n      <th>reviewText</th>\n      <th>summary</th>\n      <th>unixReviewTime</th>\n      <th>reviewTime</th>\n      <th>score</th>\n      <th>h1</th>\n      <th>h2</th>\n      <th>diff_h</th>\n    </tr>\n  </thead>\n  <tbody>\n    <tr>\n      <th>0</th>\n      <td>A35C43YE9HU9CN</td>\n      <td>B0064X7B4A</td>\n      <td>Joan Miller</td>\n      <td>[0, 0]</td>\n      <td>I have decided not to play this game.  I can't...</td>\n      <td>Friends</td>\n      <td>1396396800</td>\n      <td>04 2, 2014</td>\n      <td>1.0</td>\n      <td>0</td>\n      <td>0</td>\n      <td>0</td>\n    </tr>\n    <tr>\n      <th>1</th>\n      <td>AHFS8CGWWXB5B</td>\n      <td>B00H1P4V3E</td>\n      <td>WASH ST. GAMER</td>\n      <td>[3, 4]</td>\n      <td>The Amazon Appstore free app of the day for Ju...</td>\n      <td>Amazon Makes This \"Longest Spring Ever\" for Fi...</td>\n      <td>1402272000</td>\n      <td>06 9, 2014</td>\n      <td>2.0</td>\n      <td>3</td>\n      <td>4</td>\n      <td>1</td>\n    </tr>\n    <tr>\n      <th>2</th>\n      <td>A3EW8OTQ90NVHM</td>\n      <td>B00CLVW82O</td>\n      <td>Kindle Customer</td>\n      <td>[0, 4]</td>\n      <td>this game was so mush fun I wish I could play ...</td>\n      <td>best</td>\n      <td>1368921600</td>\n      <td>05 19, 2013</td>\n      <td>5.0</td>\n      <td>0</td>\n      <td>4</td>\n      <td>4</td>\n    </tr>\n    <tr>\n      <th>3</th>\n      <td>AJ3GHFJY1IUTD</td>\n      <td>B007T9WVKM</td>\n      <td>BrawlMaster4</td>\n      <td>[0, 2]</td>\n      <td>Its pretty fun and very good looking,  but you...</td>\n      <td>Fun Game</td>\n      <td>1350172800</td>\n      <td>10 14, 2012</td>\n      <td>5.0</td>\n      <td>0</td>\n      <td>2</td>\n      <td>2</td>\n    </tr>\n    <tr>\n      <th>4</th>\n      <td>A3JJGBS4EL603S</td>\n      <td>B00J206J5E</td>\n      <td>K. Wilson \"thesupe\"</td>\n      <td>[0, 0]</td>\n      <td>good graphics; immersive storyline; hard to st...</td>\n      <td>great game!</td>\n      <td>1396915200</td>\n      <td>04 8, 2014</td>\n      <td>5.0</td>\n      <td>0</td>\n      <td>0</td>\n      <td>0</td>\n    </tr>\n    <tr>\n      <th>5</th>\n      <td>A3RL7Y2FJBDHJ0</td>\n      <td>B006H7TC3Q</td>\n      <td>hi</td>\n      <td>[2, 5]</td>\n      <td>its very good.u use fotos on ur device and it ...</td>\n      <td>very good</td>\n      <td>1337817600</td>\n      <td>05 24, 2012</td>\n      <td>5.0</td>\n      <td>2</td>\n      <td>5</td>\n      <td>3</td>\n    </tr>\n    <tr>\n      <th>6</th>\n      <td>AUHVMC0PURGO8</td>\n      <td>B006R6VG9K</td>\n      <td>A.Mccullough</td>\n      <td>[0, 0]</td>\n      <td>the game is very fun and fast paced. It also k...</td>\n      <td>fun and fast paced</td>\n      <td>1401926400</td>\n      <td>06 5, 2014</td>\n      <td>5.0</td>\n      <td>0</td>\n      <td>0</td>\n      <td>0</td>\n    </tr>\n    <tr>\n      <th>7</th>\n      <td>A1Z37DUIWXJNLN</td>\n      <td>B00B63HT8Q</td>\n      <td>Julie Quick \"Beach Bum Wannabe\"</td>\n      <td>[0, 0]</td>\n      <td>great app!  A quick look at the weather... not...</td>\n      <td>A great alternative to the current (stupid) ve...</td>\n      <td>1377388800</td>\n      <td>08 25, 2013</td>\n      <td>4.0</td>\n      <td>0</td>\n      <td>0</td>\n      <td>0</td>\n    </tr>\n    <tr>\n      <th>8</th>\n      <td>AF7ZE5MRM6CW2</td>\n      <td>B00BL0I7WG</td>\n      <td>T.dd</td>\n      <td>[0, 0]</td>\n      <td>So fare I like it haven't had it long enough t...</td>\n      <td>easy fun</td>\n      <td>1369612800</td>\n      <td>05 27, 2013</td>\n      <td>5.0</td>\n      <td>0</td>\n      <td>0</td>\n      <td>0</td>\n    </tr>\n    <tr>\n      <th>9</th>\n      <td>A1TTH51E2651BJ</td>\n      <td>B00GRXA7GG</td>\n      <td>Joni</td>\n      <td>[0, 0]</td>\n      <td>This classic Mahjong comes with nice graphics ...</td>\n      <td>Mahjong Premium</td>\n      <td>1394841600</td>\n      <td>03 15, 2014</td>\n      <td>5.0</td>\n      <td>0</td>\n      <td>0</td>\n      <td>0</td>\n    </tr>\n  </tbody>\n</table>\n</div>"
     },
     "execution_count": 8,
     "metadata": {},
     "output_type": "execute_result"
    }
   ],
   "source": [
    "from ast import literal_eval\n",
    "\n",
    "df['h1'] = df['helpful'].apply(literal_eval).apply(lambda x:x[0])\n",
    "df['h2'] = df['helpful'].apply(literal_eval).apply(lambda x:x[1])\n",
    "df['diff_h'] = df['h2'] - df['h1']\n",
    "df.head(10)"
   ],
   "metadata": {
    "collapsed": false,
    "pycharm": {
     "name": "#%%\n"
    }
   }
  },
  {
   "cell_type": "code",
   "execution_count": 9,
   "outputs": [
    {
     "data": {
      "text/plain": "<AxesSubplot:ylabel='diff_h'>"
     },
     "execution_count": 9,
     "metadata": {},
     "output_type": "execute_result"
    },
    {
     "data": {
      "text/plain": "<Figure size 432x288 with 1 Axes>",
      "image/png": "[encoded data removed]"
     },
     "metadata": {},
     "output_type": "display_data"
    }
   ],
   "source": [
    "sns.boxplot(y=df['diff_h'])"
   ],
   "metadata": {
    "collapsed": false,
    "pycharm": {
     "name": "#%%\n"
    }
   }
  },
  {
   "cell_type": "code",
   "execution_count": 10,
   "outputs": [
    {
     "data": {
      "text/plain": "Empty DataFrame\nColumns: [reviewerID, asin, reviewerName, helpful, reviewText, summary, unixReviewTime, reviewTime, score, h1, h2, diff_h]\nIndex: []",
      "text/html": "<div>\n<style scoped>\n    .dataframe tbody tr th:only-of-type {\n        vertical-align: middle;\n    }\n\n    .dataframe tbody tr th {\n        vertical-align: top;\n    }\n\n    .dataframe thead th {\n        text-align: right;\n    }\n</style>\n<table border=\"1\" class=\"dataframe\">\n  <thead>\n    <tr style=\"text-align: right;\">\n      <th></th>\n      <th>reviewerID</th>\n      <th>asin</th>\n      <th>reviewerName</th>\n      <th>helpful</th>\n      <th>reviewText</th>\n      <th>summary</th>\n      <th>unixReviewTime</th>\n      <th>reviewTime</th>\n      <th>score</th>\n      <th>h1</th>\n      <th>h2</th>\n      <th>diff_h</th>\n    </tr>\n  </thead>\n  <tbody>\n  </tbody>\n</table>\n</div>"
     },
     "execution_count": 10,
     "metadata": {},
     "output_type": "execute_result"
    }
   ],
   "source": [
    "df[df['diff_h'] < 0].head()"
   ],
   "metadata": {
    "collapsed": false,
    "pycharm": {
     "name": "#%%\n"
    }
   }
  },
  {
   "cell_type": "code",
   "execution_count": 11,
   "outputs": [
    {
     "data": {
      "text/plain": "       reviewerID        asin         reviewerName helpful  \\\n0  A35C43YE9HU9CN  B0064X7B4A          Joan Miller  [0, 0]   \n1   AHFS8CGWWXB5B  B00H1P4V3E       WASH ST. GAMER  [3, 4]   \n2  A3EW8OTQ90NVHM  B00CLVW82O      Kindle Customer  [0, 4]   \n3   AJ3GHFJY1IUTD  B007T9WVKM         BrawlMaster4  [0, 2]   \n4  A3JJGBS4EL603S  B00J206J5E  K. Wilson \"thesupe\"  [0, 0]   \n\n                                          reviewText  \\\n0  I have decided not to play this game.  I can't...   \n1  The Amazon Appstore free app of the day for Ju...   \n2  this game was so mush fun I wish I could play ...   \n3  Its pretty fun and very good looking,  but you...   \n4  good graphics; immersive storyline; hard to st...   \n\n                                             summary  unixReviewTime  \\\n0                                            Friends      1396396800   \n1  Amazon Makes This \"Longest Spring Ever\" for Fi...      1402272000   \n2                                               best      1368921600   \n3                                           Fun Game      1350172800   \n4                                        great game!      1396915200   \n\n    reviewTime  score  \n0   04 2, 2014    1.0  \n1   06 9, 2014    2.0  \n2  05 19, 2013    5.0  \n3  10 14, 2012    5.0  \n4   04 8, 2014    5.0  ",
      "text/html": "<div>\n<style scoped>\n    .dataframe tbody tr th:only-of-type {\n        vertical-align: middle;\n    }\n\n    .dataframe tbody tr th {\n        vertical-align: top;\n    }\n\n    .dataframe thead th {\n        text-align: right;\n    }\n</style>\n<table border=\"1\" class=\"dataframe\">\n  <thead>\n    <tr style=\"text-align: right;\">\n      <th></th>\n      <th>reviewerID</th>\n      <th>asin</th>\n      <th>reviewerName</th>\n      <th>helpful</th>\n      <th>reviewText</th>\n      <th>summary</th>\n      <th>unixReviewTime</th>\n      <th>reviewTime</th>\n      <th>score</th>\n    </tr>\n  </thead>\n  <tbody>\n    <tr>\n      <th>0</th>\n      <td>A35C43YE9HU9CN</td>\n      <td>B0064X7B4A</td>\n      <td>Joan Miller</td>\n      <td>[0, 0]</td>\n      <td>I have decided not to play this game.  I can't...</td>\n      <td>Friends</td>\n      <td>1396396800</td>\n      <td>04 2, 2014</td>\n      <td>1.0</td>\n    </tr>\n    <tr>\n      <th>1</th>\n      <td>AHFS8CGWWXB5B</td>\n      <td>B00H1P4V3E</td>\n      <td>WASH ST. GAMER</td>\n      <td>[3, 4]</td>\n      <td>The Amazon Appstore free app of the day for Ju...</td>\n      <td>Amazon Makes This \"Longest Spring Ever\" for Fi...</td>\n      <td>1402272000</td>\n      <td>06 9, 2014</td>\n      <td>2.0</td>\n    </tr>\n    <tr>\n      <th>2</th>\n      <td>A3EW8OTQ90NVHM</td>\n      <td>B00CLVW82O</td>\n      <td>Kindle Customer</td>\n      <td>[0, 4]</td>\n      <td>this game was so mush fun I wish I could play ...</td>\n      <td>best</td>\n      <td>1368921600</td>\n      <td>05 19, 2013</td>\n      <td>5.0</td>\n    </tr>\n    <tr>\n      <th>3</th>\n      <td>AJ3GHFJY1IUTD</td>\n      <td>B007T9WVKM</td>\n      <td>BrawlMaster4</td>\n      <td>[0, 2]</td>\n      <td>Its pretty fun and very good looking,  but you...</td>\n      <td>Fun Game</td>\n      <td>1350172800</td>\n      <td>10 14, 2012</td>\n      <td>5.0</td>\n    </tr>\n    <tr>\n      <th>4</th>\n      <td>A3JJGBS4EL603S</td>\n      <td>B00J206J5E</td>\n      <td>K. Wilson \"thesupe\"</td>\n      <td>[0, 0]</td>\n      <td>good graphics; immersive storyline; hard to st...</td>\n      <td>great game!</td>\n      <td>1396915200</td>\n      <td>04 8, 2014</td>\n      <td>5.0</td>\n    </tr>\n  </tbody>\n</table>\n</div>"
     },
     "execution_count": 11,
     "metadata": {},
     "output_type": "execute_result"
    }
   ],
   "source": [
    "df = df.drop(columns=['diff_h','h1','h2'])\n",
    "df.head(5)"
   ],
   "metadata": {
    "collapsed": false,
    "pycharm": {
     "name": "#%%\n"
    }
   }
  },
  {
   "cell_type": "code",
   "execution_count": 12,
   "outputs": [
    {
     "data": {
      "text/plain": "       reviewerID        asin         reviewerName helpful  \\\n0  A35C43YE9HU9CN  B0064X7B4A          Joan Miller  [0, 0]   \n1   AHFS8CGWWXB5B  B00H1P4V3E       WASH ST. GAMER  [3, 4]   \n2  A3EW8OTQ90NVHM  B00CLVW82O      Kindle Customer  [0, 4]   \n3   AJ3GHFJY1IUTD  B007T9WVKM         BrawlMaster4  [0, 2]   \n4  A3JJGBS4EL603S  B00J206J5E  K. Wilson \"thesupe\"  [0, 0]   \n\n                                          reviewText  \\\n0  I have decided not to play this game.  I can't...   \n1  The Amazon Appstore free app of the day for Ju...   \n2  this game was so mush fun I wish I could play ...   \n3  Its pretty fun and very good looking,  but you...   \n4  good graphics; immersive storyline; hard to st...   \n\n                                             summary  unixReviewTime  \\\n0                                            Friends      1396396800   \n1  Amazon Makes This \"Longest Spring Ever\" for Fi...      1402272000   \n2                                               best      1368921600   \n3                                           Fun Game      1350172800   \n4                                        great game!      1396915200   \n\n    reviewTime  score  \n0   04 2, 2014    1.0  \n1   06 9, 2014    2.0  \n2  05 19, 2013    5.0  \n3  10 14, 2012    5.0  \n4   04 8, 2014    5.0  ",
      "text/html": "<div>\n<style scoped>\n    .dataframe tbody tr th:only-of-type {\n        vertical-align: middle;\n    }\n\n    .dataframe tbody tr th {\n        vertical-align: top;\n    }\n\n    .dataframe thead th {\n        text-align: right;\n    }\n</style>\n<table border=\"1\" class=\"dataframe\">\n  <thead>\n    <tr style=\"text-align: right;\">\n      <th></th>\n      <th>reviewerID</th>\n      <th>asin</th>\n      <th>reviewerName</th>\n      <th>helpful</th>\n      <th>reviewText</th>\n      <th>summary</th>\n      <th>unixReviewTime</th>\n      <th>reviewTime</th>\n      <th>score</th>\n    </tr>\n  </thead>\n  <tbody>\n    <tr>\n      <th>0</th>\n      <td>A35C43YE9HU9CN</td>\n      <td>B0064X7B4A</td>\n      <td>Joan Miller</td>\n      <td>[0, 0]</td>\n      <td>I have decided not to play this game.  I can't...</td>\n      <td>Friends</td>\n      <td>1396396800</td>\n      <td>04 2, 2014</td>\n      <td>1.0</td>\n    </tr>\n    <tr>\n      <th>1</th>\n      <td>AHFS8CGWWXB5B</td>\n      <td>B00H1P4V3E</td>\n      <td>WASH ST. GAMER</td>\n      <td>[3, 4]</td>\n      <td>The Amazon Appstore free app of the day for Ju...</td>\n      <td>Amazon Makes This \"Longest Spring Ever\" for Fi...</td>\n      <td>1402272000</td>\n      <td>06 9, 2014</td>\n      <td>2.0</td>\n    </tr>\n    <tr>\n      <th>2</th>\n      <td>A3EW8OTQ90NVHM</td>\n      <td>B00CLVW82O</td>\n      <td>Kindle Customer</td>\n      <td>[0, 4]</td>\n      <td>this game was so mush fun I wish I could play ...</td>\n      <td>best</td>\n      <td>1368921600</td>\n      <td>05 19, 2013</td>\n      <td>5.0</td>\n    </tr>\n    <tr>\n      <th>3</th>\n      <td>AJ3GHFJY1IUTD</td>\n      <td>B007T9WVKM</td>\n      <td>BrawlMaster4</td>\n      <td>[0, 2]</td>\n      <td>Its pretty fun and very good looking,  but you...</td>\n      <td>Fun Game</td>\n      <td>1350172800</td>\n      <td>10 14, 2012</td>\n      <td>5.0</td>\n    </tr>\n    <tr>\n      <th>4</th>\n      <td>A3JJGBS4EL603S</td>\n      <td>B00J206J5E</td>\n      <td>K. Wilson \"thesupe\"</td>\n      <td>[0, 0]</td>\n      <td>good graphics; immersive storyline; hard to st...</td>\n      <td>great game!</td>\n      <td>1396915200</td>\n      <td>04 8, 2014</td>\n      <td>5.0</td>\n    </tr>\n  </tbody>\n</table>\n</div>"
     },
     "execution_count": 12,
     "metadata": {},
     "output_type": "execute_result"
    }
   ],
   "source": [
    "df.head(5)"
   ],
   "metadata": {
    "collapsed": false,
    "pycharm": {
     "name": "#%%\n"
    }
   }
  },
  {
   "cell_type": "code",
   "execution_count": 13,
   "outputs": [],
   "source": [
    "def calc_ratio(x):\n",
    "    if x[1] == 0:\n",
    "        return 0\n",
    "    pos = x[0]\n",
    "    neg = x[1] - x[0]\n",
    "    h = (pos - neg) / x[1]\n",
    "    return h\n",
    "\n",
    "df['help_ratio'] = df['helpful'].apply(literal_eval).apply(lambda x: calc_ratio(x))"
   ],
   "metadata": {
    "collapsed": false,
    "pycharm": {
     "name": "#%%\n"
    }
   }
  },
  {
   "cell_type": "code",
   "execution_count": 14,
   "outputs": [
    {
     "data": {
      "text/plain": "       reviewerID        asin                     reviewerName helpful  \\\n0  A35C43YE9HU9CN  B0064X7B4A                      Joan Miller  [0, 0]   \n1   AHFS8CGWWXB5B  B00H1P4V3E                   WASH ST. GAMER  [3, 4]   \n2  A3EW8OTQ90NVHM  B00CLVW82O                  Kindle Customer  [0, 4]   \n3   AJ3GHFJY1IUTD  B007T9WVKM                     BrawlMaster4  [0, 2]   \n4  A3JJGBS4EL603S  B00J206J5E              K. Wilson \"thesupe\"  [0, 0]   \n5  A3RL7Y2FJBDHJ0  B006H7TC3Q                               hi  [2, 5]   \n6   AUHVMC0PURGO8  B006R6VG9K                     A.Mccullough  [0, 0]   \n7  A1Z37DUIWXJNLN  B00B63HT8Q  Julie Quick \"Beach Bum Wannabe\"  [0, 0]   \n8   AF7ZE5MRM6CW2  B00BL0I7WG                             T.dd  [0, 0]   \n9  A1TTH51E2651BJ  B00GRXA7GG                             Joni  [0, 0]   \n\n                                          reviewText  \\\n0  I have decided not to play this game.  I can't...   \n1  The Amazon Appstore free app of the day for Ju...   \n2  this game was so mush fun I wish I could play ...   \n3  Its pretty fun and very good looking,  but you...   \n4  good graphics; immersive storyline; hard to st...   \n5  its very good.u use fotos on ur device and it ...   \n6  the game is very fun and fast paced. It also k...   \n7  great app!  A quick look at the weather... not...   \n8  So fare I like it haven't had it long enough t...   \n9  This classic Mahjong comes with nice graphics ...   \n\n                                             summary  unixReviewTime  \\\n0                                            Friends      1396396800   \n1  Amazon Makes This \"Longest Spring Ever\" for Fi...      1402272000   \n2                                               best      1368921600   \n3                                           Fun Game      1350172800   \n4                                        great game!      1396915200   \n5                                          very good      1337817600   \n6                                 fun and fast paced      1401926400   \n7  A great alternative to the current (stupid) ve...      1377388800   \n8                                           easy fun      1369612800   \n9                                    Mahjong Premium      1394841600   \n\n    reviewTime  score  help_ratio  \n0   04 2, 2014    1.0         0.0  \n1   06 9, 2014    2.0         0.5  \n2  05 19, 2013    5.0        -1.0  \n3  10 14, 2012    5.0        -1.0  \n4   04 8, 2014    5.0         0.0  \n5  05 24, 2012    5.0        -0.2  \n6   06 5, 2014    5.0         0.0  \n7  08 25, 2013    4.0         0.0  \n8  05 27, 2013    5.0         0.0  \n9  03 15, 2014    5.0         0.0  ",
      "text/html": "<div>\n<style scoped>\n    .dataframe tbody tr th:only-of-type {\n        vertical-align: middle;\n    }\n\n    .dataframe tbody tr th {\n        vertical-align: top;\n    }\n\n    .dataframe thead th {\n        text-align: right;\n    }\n</style>\n<table border=\"1\" class=\"dataframe\">\n  <thead>\n    <tr style=\"text-align: right;\">\n      <th></th>\n      <th>reviewerID</th>\n      <th>asin</th>\n      <th>reviewerName</th>\n      <th>helpful</th>\n      <th>reviewText</th>\n      <th>summary</th>\n      <th>unixReviewTime</th>\n      <th>reviewTime</th>\n      <th>score</th>\n      <th>help_ratio</th>\n    </tr>\n  </thead>\n  <tbody>\n    <tr>\n      <th>0</th>\n      <td>A35C43YE9HU9CN</td>\n      <td>B0064X7B4A</td>\n      <td>Joan Miller</td>\n      <td>[0, 0]</td>\n      <td>I have decided not to play this game.  I can't...</td>\n      <td>Friends</td>\n      <td>1396396800</td>\n      <td>04 2, 2014</td>\n      <td>1.0</td>\n      <td>0.0</td>\n    </tr>\n    <tr>\n      <th>1</th>\n      <td>AHFS8CGWWXB5B</td>\n      <td>B00H1P4V3E</td>\n      <td>WASH ST. GAMER</td>\n      <td>[3, 4]</td>\n      <td>The Amazon Appstore free app of the day for Ju...</td>\n      <td>Amazon Makes This \"Longest Spring Ever\" for Fi...</td>\n      <td>1402272000</td>\n      <td>06 9, 2014</td>\n      <td>2.0</td>\n      <td>0.5</td>\n    </tr>\n    <tr>\n      <th>2</th>\n      <td>A3EW8OTQ90NVHM</td>\n      <td>B00CLVW82O</td>\n      <td>Kindle Customer</td>\n      <td>[0, 4]</td>\n      <td>this game was so mush fun I wish I could play ...</td>\n      <td>best</td>\n      <td>1368921600</td>\n      <td>05 19, 2013</td>\n      <td>5.0</td>\n      <td>-1.0</td>\n    </tr>\n    <tr>\n      <th>3</th>\n      <td>AJ3GHFJY1IUTD</td>\n      <td>B007T9WVKM</td>\n      <td>BrawlMaster4</td>\n      <td>[0, 2]</td>\n      <td>Its pretty fun and very good looking,  but you...</td>\n      <td>Fun Game</td>\n      <td>1350172800</td>\n      <td>10 14, 2012</td>\n      <td>5.0</td>\n      <td>-1.0</td>\n    </tr>\n    <tr>\n      <th>4</th>\n      <td>A3JJGBS4EL603S</td>\n      <td>B00J206J5E</td>\n      <td>K. Wilson \"thesupe\"</td>\n      <td>[0, 0]</td>\n      <td>good graphics; immersive storyline; hard to st...</td>\n      <td>great game!</td>\n      <td>1396915200</td>\n      <td>04 8, 2014</td>\n      <td>5.0</td>\n      <td>0.0</td>\n    </tr>\n    <tr>\n      <th>5</th>\n      <td>A3RL7Y2FJBDHJ0</td>\n      <td>B006H7TC3Q</td>\n      <td>hi</td>\n      <td>[2, 5]</td>\n      <td>its very good.u use fotos on ur device and it ...</td>\n      <td>very good</td>\n      <td>1337817600</td>\n      <td>05 24, 2012</td>\n      <td>5.0</td>\n      <td>-0.2</td>\n    </tr>\n    <tr>\n      <th>6</th>\n      <td>AUHVMC0PURGO8</td>\n      <td>B006R6VG9K</td>\n      <td>A.Mccullough</td>\n      <td>[0, 0]</td>\n      <td>the game is very fun and fast paced. It also k...</td>\n      <td>fun and fast paced</td>\n      <td>1401926400</td>\n      <td>06 5, 2014</td>\n      <td>5.0</td>\n      <td>0.0</td>\n    </tr>\n    <tr>\n      <th>7</th>\n      <td>A1Z37DUIWXJNLN</td>\n      <td>B00B63HT8Q</td>\n      <td>Julie Quick \"Beach Bum Wannabe\"</td>\n      <td>[0, 0]</td>\n      <td>great app!  A quick look at the weather... not...</td>\n      <td>A great alternative to the current (stupid) ve...</td>\n      <td>1377388800</td>\n      <td>08 25, 2013</td>\n      <td>4.0</td>\n      <td>0.0</td>\n    </tr>\n    <tr>\n      <th>8</th>\n      <td>AF7ZE5MRM6CW2</td>\n      <td>B00BL0I7WG</td>\n      <td>T.dd</td>\n      <td>[0, 0]</td>\n      <td>So fare I like it haven't had it long enough t...</td>\n      <td>easy fun</td>\n      <td>1369612800</td>\n      <td>05 27, 2013</td>\n      <td>5.0</td>\n      <td>0.0</td>\n    </tr>\n    <tr>\n      <th>9</th>\n      <td>A1TTH51E2651BJ</td>\n      <td>B00GRXA7GG</td>\n      <td>Joni</td>\n      <td>[0, 0]</td>\n      <td>This classic Mahjong comes with nice graphics ...</td>\n      <td>Mahjong Premium</td>\n      <td>1394841600</td>\n      <td>03 15, 2014</td>\n      <td>5.0</td>\n      <td>0.0</td>\n    </tr>\n  </tbody>\n</table>\n</div>"
     },
     "execution_count": 14,
     "metadata": {},
     "output_type": "execute_result"
    }
   ],
   "source": [
    "df.head(10)"
   ],
   "metadata": {
    "collapsed": false,
    "pycharm": {
     "name": "#%%\n"
    }
   }
  },
  {
   "cell_type": "code",
   "execution_count": 15,
   "outputs": [
    {
     "data": {
      "text/plain": "            help_ratio     score\nhelp_ratio    1.000000  0.038319\nscore         0.038319  1.000000",
      "text/html": "<div>\n<style scoped>\n    .dataframe tbody tr th:only-of-type {\n        vertical-align: middle;\n    }\n\n    .dataframe tbody tr th {\n        vertical-align: top;\n    }\n\n    .dataframe thead th {\n        text-align: right;\n    }\n</style>\n<table border=\"1\" class=\"dataframe\">\n  <thead>\n    <tr style=\"text-align: right;\">\n      <th></th>\n      <th>help_ratio</th>\n      <th>score</th>\n    </tr>\n  </thead>\n  <tbody>\n    <tr>\n      <th>help_ratio</th>\n      <td>1.000000</td>\n      <td>0.038319</td>\n    </tr>\n    <tr>\n      <th>score</th>\n      <td>0.038319</td>\n      <td>1.000000</td>\n    </tr>\n  </tbody>\n</table>\n</div>"
     },
     "execution_count": 15,
     "metadata": {},
     "output_type": "execute_result"
    }
   ],
   "source": [
    "df[['help_ratio', 'score']].corr(method='spearman')"
   ],
   "metadata": {
    "collapsed": false,
    "pycharm": {
     "name": "#%%\n"
    }
   }
  },
  {
   "cell_type": "code",
   "execution_count": 16,
   "outputs": [
    {
     "name": "stdout",
     "output_type": "stream",
     "text": [
      "<class 'pandas.core.frame.DataFrame'>\n",
      "Int64Index: 555745 entries, 0 to 555790\n",
      "Data columns (total 10 columns):\n",
      " #   Column          Non-Null Count   Dtype  \n",
      "---  ------          --------------   -----  \n",
      " 0   reviewerID      555745 non-null  object \n",
      " 1   asin            555745 non-null  object \n",
      " 2   reviewerName    555745 non-null  object \n",
      " 3   helpful         555745 non-null  object \n",
      " 4   reviewText      555745 non-null  object \n",
      " 5   summary         555745 non-null  object \n",
      " 6   unixReviewTime  555745 non-null  int64  \n",
      " 7   reviewTime      555745 non-null  object \n",
      " 8   score           555745 non-null  float64\n",
      " 9   help_ratio      555745 non-null  float64\n",
      "dtypes: float64(2), int64(1), object(7)\n",
      "memory usage: 46.6+ MB\n"
     ]
    }
   ],
   "source": [
    "df.info()"
   ],
   "metadata": {
    "collapsed": false,
    "pycharm": {
     "name": "#%%\n"
    }
   }
  },
  {
   "cell_type": "code",
   "execution_count": 17,
   "outputs": [
    {
     "data": {
      "text/plain": "       unixReviewTime          score     help_ratio\ncount    5.557450e+05  555745.000000  555745.000000\nmean     1.368604e+09       3.945410       0.136620\nstd      2.353921e+07       1.354681       0.489663\nmin      1.300752e+09       1.000000      -1.000000\n25%      1.354579e+09       3.000000       0.000000\n50%      1.370650e+09       5.000000       0.000000\n75%      1.388707e+09       5.000000       0.333333\nmax      1.406074e+09       5.000000       1.000000",
      "text/html": "<div>\n<style scoped>\n    .dataframe tbody tr th:only-of-type {\n        vertical-align: middle;\n    }\n\n    .dataframe tbody tr th {\n        vertical-align: top;\n    }\n\n    .dataframe thead th {\n        text-align: right;\n    }\n</style>\n<table border=\"1\" class=\"dataframe\">\n  <thead>\n    <tr style=\"text-align: right;\">\n      <th></th>\n      <th>unixReviewTime</th>\n      <th>score</th>\n      <th>help_ratio</th>\n    </tr>\n  </thead>\n  <tbody>\n    <tr>\n      <th>count</th>\n      <td>5.557450e+05</td>\n      <td>555745.000000</td>\n      <td>555745.000000</td>\n    </tr>\n    <tr>\n      <th>mean</th>\n      <td>1.368604e+09</td>\n      <td>3.945410</td>\n      <td>0.136620</td>\n    </tr>\n    <tr>\n      <th>std</th>\n      <td>2.353921e+07</td>\n      <td>1.354681</td>\n      <td>0.489663</td>\n    </tr>\n    <tr>\n      <th>min</th>\n      <td>1.300752e+09</td>\n      <td>1.000000</td>\n      <td>-1.000000</td>\n    </tr>\n    <tr>\n      <th>25%</th>\n      <td>1.354579e+09</td>\n      <td>3.000000</td>\n      <td>0.000000</td>\n    </tr>\n    <tr>\n      <th>50%</th>\n      <td>1.370650e+09</td>\n      <td>5.000000</td>\n      <td>0.000000</td>\n    </tr>\n    <tr>\n      <th>75%</th>\n      <td>1.388707e+09</td>\n      <td>5.000000</td>\n      <td>0.333333</td>\n    </tr>\n    <tr>\n      <th>max</th>\n      <td>1.406074e+09</td>\n      <td>5.000000</td>\n      <td>1.000000</td>\n    </tr>\n  </tbody>\n</table>\n</div>"
     },
     "execution_count": 17,
     "metadata": {},
     "output_type": "execute_result"
    }
   ],
   "source": [
    "df.describe()"
   ],
   "metadata": {
    "collapsed": false,
    "pycharm": {
     "name": "#%%\n"
    }
   }
  },
  {
   "cell_type": "code",
   "execution_count": 18,
   "outputs": [
    {
     "data": {
      "text/plain": "<Figure size 360x360 with 1 Axes>",
      "image/png": "[encoded data removed]"
     },
     "metadata": {},
     "output_type": "display_data"
    }
   ],
   "source": [
    "sns.displot(df['help_ratio']).savefig('img/helpratio')"
   ],
   "metadata": {
    "collapsed": false,
    "pycharm": {
     "name": "#%%\n"
    }
   }
  },
  {
   "cell_type": "code",
   "execution_count": 19,
   "outputs": [
    {
     "data": {
      "text/plain": "            pos     score\npos    1.000000 -0.099708\nscore -0.099708  1.000000",
      "text/html": "<div>\n<style scoped>\n    .dataframe tbody tr th:only-of-type {\n        vertical-align: middle;\n    }\n\n    .dataframe tbody tr th {\n        vertical-align: top;\n    }\n\n    .dataframe thead th {\n        text-align: right;\n    }\n</style>\n<table border=\"1\" class=\"dataframe\">\n  <thead>\n    <tr style=\"text-align: right;\">\n      <th></th>\n      <th>pos</th>\n      <th>score</th>\n    </tr>\n  </thead>\n  <tbody>\n    <tr>\n      <th>pos</th>\n      <td>1.000000</td>\n      <td>-0.099708</td>\n    </tr>\n    <tr>\n      <th>score</th>\n      <td>-0.099708</td>\n      <td>1.000000</td>\n    </tr>\n  </tbody>\n</table>\n</div>"
     },
     "execution_count": 19,
     "metadata": {},
     "output_type": "execute_result"
    }
   ],
   "source": [
    "def calc_ratio(x):\n",
    "    if x[1] == 0:\n",
    "        return 0\n",
    "    return x[0]/x[1]\n",
    "\n",
    "df['pos'] = df['helpful'].apply(literal_eval).apply(lambda x: calc_ratio(x))\n",
    "df[['pos', 'score']].corr(method='spearman')\n"
   ],
   "metadata": {
    "collapsed": false,
    "pycharm": {
     "name": "#%%\n"
    }
   }
  },
  {
   "cell_type": "code",
   "execution_count": 20,
   "outputs": [],
   "source": [
    "df['Tokens'] = df['reviewText'].apply(lambda x: len(str(x).split()))"
   ],
   "metadata": {
    "collapsed": false,
    "pycharm": {
     "name": "#%%\n"
    }
   }
  },
  {
   "cell_type": "code",
   "execution_count": 21,
   "outputs": [
    {
     "data": {
      "text/plain": "       reviewerID        asin                     reviewerName helpful  \\\n0  A35C43YE9HU9CN  B0064X7B4A                      Joan Miller  [0, 0]   \n1   AHFS8CGWWXB5B  B00H1P4V3E                   WASH ST. GAMER  [3, 4]   \n2  A3EW8OTQ90NVHM  B00CLVW82O                  Kindle Customer  [0, 4]   \n3   AJ3GHFJY1IUTD  B007T9WVKM                     BrawlMaster4  [0, 2]   \n4  A3JJGBS4EL603S  B00J206J5E              K. Wilson \"thesupe\"  [0, 0]   \n5  A3RL7Y2FJBDHJ0  B006H7TC3Q                               hi  [2, 5]   \n6   AUHVMC0PURGO8  B006R6VG9K                     A.Mccullough  [0, 0]   \n7  A1Z37DUIWXJNLN  B00B63HT8Q  Julie Quick \"Beach Bum Wannabe\"  [0, 0]   \n8   AF7ZE5MRM6CW2  B00BL0I7WG                             T.dd  [0, 0]   \n9  A1TTH51E2651BJ  B00GRXA7GG                             Joni  [0, 0]   \n\n                                          reviewText  \\\n0  I have decided not to play this game.  I can't...   \n1  The Amazon Appstore free app of the day for Ju...   \n2  this game was so mush fun I wish I could play ...   \n3  Its pretty fun and very good looking,  but you...   \n4  good graphics; immersive storyline; hard to st...   \n5  its very good.u use fotos on ur device and it ...   \n6  the game is very fun and fast paced. It also k...   \n7  great app!  A quick look at the weather... not...   \n8  So fare I like it haven't had it long enough t...   \n9  This classic Mahjong comes with nice graphics ...   \n\n                                             summary  unixReviewTime  \\\n0                                            Friends      1396396800   \n1  Amazon Makes This \"Longest Spring Ever\" for Fi...      1402272000   \n2                                               best      1368921600   \n3                                           Fun Game      1350172800   \n4                                        great game!      1396915200   \n5                                          very good      1337817600   \n6                                 fun and fast paced      1401926400   \n7  A great alternative to the current (stupid) ve...      1377388800   \n8                                           easy fun      1369612800   \n9                                    Mahjong Premium      1394841600   \n\n    reviewTime  score  help_ratio   pos  Tokens  \n0   04 2, 2014    1.0         0.0  0.00      22  \n1   06 9, 2014    2.0         0.5  0.75     315  \n2  05 19, 2013    5.0        -1.0  0.00      23  \n3  10 14, 2012    5.0        -1.0  0.00      26  \n4   04 8, 2014    5.0         0.0  0.00      22  \n5  05 24, 2012    5.0        -0.2  0.40      21  \n6   06 5, 2014    5.0         0.0  0.00      22  \n7  08 25, 2013    4.0         0.0  0.00      31  \n8  05 27, 2013    5.0         0.0  0.00      26  \n9  03 15, 2014    5.0         0.0  0.00      52  ",
      "text/html": "<div>\n<style scoped>\n    .dataframe tbody tr th:only-of-type {\n        vertical-align: middle;\n    }\n\n    .dataframe tbody tr th {\n        vertical-align: top;\n    }\n\n    .dataframe thead th {\n        text-align: right;\n    }\n</style>\n<table border=\"1\" class=\"dataframe\">\n  <thead>\n    <tr style=\"text-align: right;\">\n      <th></th>\n      <th>reviewerID</th>\n      <th>asin</th>\n      <th>reviewerName</th>\n      <th>helpful</th>\n      <th>reviewText</th>\n      <th>summary</th>\n      <th>unixReviewTime</th>\n      <th>reviewTime</th>\n      <th>score</th>\n      <th>help_ratio</th>\n      <th>pos</th>\n      <th>Tokens</th>\n    </tr>\n  </thead>\n  <tbody>\n    <tr>\n      <th>0</th>\n      <td>A35C43YE9HU9CN</td>\n      <td>B0064X7B4A</td>\n      <td>Joan Miller</td>\n      <td>[0, 0]</td>\n      <td>I have decided not to play this game.  I can't...</td>\n      <td>Friends</td>\n      <td>1396396800</td>\n      <td>04 2, 2014</td>\n      <td>1.0</td>\n      <td>0.0</td>\n      <td>0.00</td>\n      <td>22</td>\n    </tr>\n    <tr>\n      <th>1</th>\n      <td>AHFS8CGWWXB5B</td>\n      <td>B00H1P4V3E</td>\n      <td>WASH ST. GAMER</td>\n      <td>[3, 4]</td>\n      <td>The Amazon Appstore free app of the day for Ju...</td>\n      <td>Amazon Makes This \"Longest Spring Ever\" for Fi...</td>\n      <td>1402272000</td>\n      <td>06 9, 2014</td>\n      <td>2.0</td>\n      <td>0.5</td>\n      <td>0.75</td>\n      <td>315</td>\n    </tr>\n    <tr>\n      <th>2</th>\n      <td>A3EW8OTQ90NVHM</td>\n      <td>B00CLVW82O</td>\n      <td>Kindle Customer</td>\n      <td>[0, 4]</td>\n      <td>this game was so mush fun I wish I could play ...</td>\n      <td>best</td>\n      <td>1368921600</td>\n      <td>05 19, 2013</td>\n      <td>5.0</td>\n      <td>-1.0</td>\n      <td>0.00</td>\n      <td>23</td>\n    </tr>\n    <tr>\n      <th>3</th>\n      <td>AJ3GHFJY1IUTD</td>\n      <td>B007T9WVKM</td>\n      <td>BrawlMaster4</td>\n      <td>[0, 2]</td>\n      <td>Its pretty fun and very good looking,  but you...</td>\n      <td>Fun Game</td>\n      <td>1350172800</td>\n      <td>10 14, 2012</td>\n      <td>5.0</td>\n      <td>-1.0</td>\n      <td>0.00</td>\n      <td>26</td>\n    </tr>\n    <tr>\n      <th>4</th>\n      <td>A3JJGBS4EL603S</td>\n      <td>B00J206J5E</td>\n      <td>K. Wilson \"thesupe\"</td>\n      <td>[0, 0]</td>\n      <td>good graphics; immersive storyline; hard to st...</td>\n      <td>great game!</td>\n      <td>1396915200</td>\n      <td>04 8, 2014</td>\n      <td>5.0</td>\n      <td>0.0</td>\n      <td>0.00</td>\n      <td>22</td>\n    </tr>\n    <tr>\n      <th>5</th>\n      <td>A3RL7Y2FJBDHJ0</td>\n      <td>B006H7TC3Q</td>\n      <td>hi</td>\n      <td>[2, 5]</td>\n      <td>its very good.u use fotos on ur device and it ...</td>\n      <td>very good</td>\n      <td>1337817600</td>\n      <td>05 24, 2012</td>\n      <td>5.0</td>\n      <td>-0.2</td>\n      <td>0.40</td>\n      <td>21</td>\n    </tr>\n    <tr>\n      <th>6</th>\n      <td>AUHVMC0PURGO8</td>\n      <td>B006R6VG9K</td>\n      <td>A.Mccullough</td>\n      <td>[0, 0]</td>\n      <td>the game is very fun and fast paced. It also k...</td>\n      <td>fun and fast paced</td>\n      <td>1401926400</td>\n      <td>06 5, 2014</td>\n      <td>5.0</td>\n      <td>0.0</td>\n      <td>0.00</td>\n      <td>22</td>\n    </tr>\n    <tr>\n      <th>7</th>\n      <td>A1Z37DUIWXJNLN</td>\n      <td>B00B63HT8Q</td>\n      <td>Julie Quick \"Beach Bum Wannabe\"</td>\n      <td>[0, 0]</td>\n      <td>great app!  A quick look at the weather... not...</td>\n      <td>A great alternative to the current (stupid) ve...</td>\n      <td>1377388800</td>\n      <td>08 25, 2013</td>\n      <td>4.0</td>\n      <td>0.0</td>\n      <td>0.00</td>\n      <td>31</td>\n    </tr>\n    <tr>\n      <th>8</th>\n      <td>AF7ZE5MRM6CW2</td>\n      <td>B00BL0I7WG</td>\n      <td>T.dd</td>\n      <td>[0, 0]</td>\n      <td>So fare I like it haven't had it long enough t...</td>\n      <td>easy fun</td>\n      <td>1369612800</td>\n      <td>05 27, 2013</td>\n      <td>5.0</td>\n      <td>0.0</td>\n      <td>0.00</td>\n      <td>26</td>\n    </tr>\n    <tr>\n      <th>9</th>\n      <td>A1TTH51E2651BJ</td>\n      <td>B00GRXA7GG</td>\n      <td>Joni</td>\n      <td>[0, 0]</td>\n      <td>This classic Mahjong comes with nice graphics ...</td>\n      <td>Mahjong Premium</td>\n      <td>1394841600</td>\n      <td>03 15, 2014</td>\n      <td>5.0</td>\n      <td>0.0</td>\n      <td>0.00</td>\n      <td>52</td>\n    </tr>\n  </tbody>\n</table>\n</div>"
     },
     "execution_count": 21,
     "metadata": {},
     "output_type": "execute_result"
    }
   ],
   "source": [
    "df.head(10)"
   ],
   "metadata": {
    "collapsed": false,
    "pycharm": {
     "name": "#%%\n"
    }
   }
  },
  {
   "cell_type": "code",
   "execution_count": 22,
   "outputs": [
    {
     "data": {
      "text/plain": "<Figure size 432x288 with 1 Axes>",
      "image/png": "[encoded data removed]"
     },
     "metadata": {},
     "output_type": "display_data"
    }
   ],
   "source": [
    "grid = sns.kdeplot(df['Tokens'])\n",
    "grid.set(xscale='log')\n",
    "grid.figure.savefig('img/tokendist.png')"
   ],
   "metadata": {
    "collapsed": false,
    "pycharm": {
     "name": "#%%\n"
    }
   }
  },
  {
   "cell_type": "code",
   "execution_count": 23,
   "outputs": [],
   "source": [
    "stoplist = set(stopwords.words(\"english\"))\n",
    "nlp = spacy.load('en')\n",
    "lemmatizer = WordNetLemmatizer()\n",
    "stemmer = PorterStemmer()"
   ],
   "metadata": {
    "collapsed": false,
    "pycharm": {
     "name": "#%%\n"
    }
   }
  },
  {
   "cell_type": "code",
   "execution_count": 24,
   "outputs": [],
   "source": [
    "def clean_doc(input):\n",
    "    doc = re.sub(\"\\s\\s+\", \" \", input)\n",
    "    doc = re.sub('[%s]' % re.escape(string.punctuation), ' ', doc)\n",
    "    doc = [str(word) for word in nlp.tokenizer(doc.lower()) if str(word) not in stoplist]\n",
    "    doc = [lemmatizer.lemmatize(word) for word in doc]\n",
    "    doc = [stemmer.stem(word) for word in doc]\n",
    "    result = list()\n",
    "    for word in doc:\n",
    "        for char in word:\n",
    "            if char != ' ':\n",
    "                result.append(word)\n",
    "                break\n",
    "    doc = result\n",
    "    return doc"
   ],
   "metadata": {
    "collapsed": false,
    "pycharm": {
     "name": "#%%\n"
    }
   }
  },
  {
   "cell_type": "code",
   "execution_count": 25,
   "outputs": [
    {
     "name": "stderr",
     "output_type": "stream",
     "text": [
      "<ipython-input-25-4c8002aa873c>:1: FutureWarning: Passing a negative integer is deprecated in version 1.0 and will not be supported in future version. Instead, use None to not limit the column width.\n",
      "  pd.set_option('display.max_colwidth', -1)\n"
     ]
    },
    {
     "data": {
      "text/plain": "                                                                                                                                                                                                                                                                                                                                                                                                                                                                                                                                                                                                                                                                                                                                                                                                                                                                                                                                                                                                                                                                                                                                                                                                                                                                                                                                                                                                                                                                                                                                                                                                                                                                                                                                                                                 reviewText  \\\n0  I have decided not to play this game.  I can't keep track of everyone, or play often enough to make it fun.                                                                                                                                                                                                                                                                                                                                                                                                                                                                                                                                                                                                                                                                                                                                                                                                                                                                                                                                                                                                                                                                                                                                                                                                                                                                                                                                                                                                                                                                                                                                                                                                                                                                                \n1  The Amazon Appstore free app of the day for June 9th, 2014 is Sudoku by Nikoli Easy 01 from Nikoli Co.As the others have mentioned in their reviews, this Sudoku version is at an average or below average quality.  It has nothing that sets it apart from the many other Android Sudoku apps out there.There was one particular gaming market though where this app and every other Sudoku app has failed to reach:  The Fire TV.  When Amazon announced the Fire TV about 2 months ago, Amazon and other developers were quick to point out how easy it was to make existing game apps compatible with the Fire TV.But after 2 months later after the release of Fire TV, we have several apps that are not very useful for the Fire TV such as a fireplace screensaver and a raindrops screensaver, but NOT a single Sudoku app for the Fire TV exists yet despite TVs and other streaming boxes that have a Sudoku game on them.  How could Amazon let an oversight like this happen?Had this app developer done their homework and made this app be the first Sudoku compatible app for the Fire TV, they might have gotten better reviews and stood out some from the many other Sudoku apps in Amazon's market.It appears our best hope for a Sudoku game to make it to the Fire TV without having to sideload one into the Fire TV is to wait for this \"Spring\" update Amazon has been mentioning forever in what seems to be the \"Longest Spring Ever\".Because of a huge missed opportunity of making this compatible with the Fire TV, that this only contains 20 easy puzzles, and because this app without Fire TV compatibility doesn't stand out from the many other tablet versions of Sudoku out there, I have no choice but to give this about 2 stars out of 5 stars.   \n2  this game was so mush fun I wish I could play more. I loved it you just have to pay for up grade                                                                                                                                                                                                                                                                                                                                                                                                                                                                                                                                                                                                                                                                                                                                                                                                                                                                                                                                                                                                                                                                                                                                                                                                                                                                                                                                                                                                                                                                                                                                                                                                                                                                                           \n3  Its pretty fun and very good looking,  but you drive like at 300 mph,  its pretty crazy. Overall a good game to get for free today.                                                                                                                                                                                                                                                                                                                                                                                                                                                                                                                                                                                                                                                                                                                                                                                                                                                                                                                                                                                                                                                                                                                                                                                                                                                                                                                                                                                                                                                                                                                                                                                                                                                        \n4  good graphics; immersive storyline; hard to stop once you begin.  a great bargain for entertainment and that's hard to find these days.                                                                                                                                                                                                                                                                                                                                                                                                                                                                                                                                                                                                                                                                                                                                                                                                                                                                                                                                                                                                                                                                                                                                                                                                                                                                                                                                                                                                                                                                                                                                                                                                                                                    \n\n                                                                                                                                                                                                                                                                                                                                                                                                                                                                                                                                                                                                                                                                                                      text  \n0  [decid, play, game, keep, track, everyon, play, often, enough, make, fun]                                                                                                                                                                                                                                                                                                                                                                                                                                                                                                                                                                                                                                \n1  [amazon, appstor, free, app, day, june, 9th, 2014, sudoku, nikoli, easi, 01, nikoli, co, other, mention, review, sudoku, version, averag, averag, qualiti, noth, set, apart, mani, android, sudoku, app, one, particular, game, market, though, app, everi, sudoku, app, fail, reach, fire, tv, amazon, announc, fire, tv, 2, month, ago, amazon, develop, quick, point, easi, make, exist, game, app, compat, fire, tv, 2, month, later, releas, fire, tv, sever, app, use, fire, tv, fireplac, screensav, raindrop, screensav, singl, sudoku, app, fire, tv, exist, yet, despit, tv, stream, box, sudoku, game, could, amazon, let, oversight, like, happen, app, develop, done, homework, made, ...]  \n2  [game, mush, fun, wish, could, play, love, pay, grade]                                                                                                                                                                                                                                                                                                                                                                                                                                                                                                                                                                                                                                                   \n3  [pretti, fun, good, look, drive, like, 300, mph, pretti, crazi, overal, good, game, get, free, today]                                                                                                                                                                                                                                                                                                                                                                                                                                                                                                                                                                                                    \n4  [good, graphic, immers, storylin, hard, stop, begin, great, bargain, entertain, hard, find, day]                                                                                                                                                                                                                                                                                                                                                                                                                                                                                                                                                                                                         ",
      "text/html": "<div>\n<style scoped>\n    .dataframe tbody tr th:only-of-type {\n        vertical-align: middle;\n    }\n\n    .dataframe tbody tr th {\n        vertical-align: top;\n    }\n\n    .dataframe thead th {\n        text-align: right;\n    }\n</style>\n<table border=\"1\" class=\"dataframe\">\n  <thead>\n    <tr style=\"text-align: right;\">\n      <th></th>\n      <th>reviewText</th>\n      <th>text</th>\n    </tr>\n  </thead>\n  <tbody>\n    <tr>\n      <th>0</th>\n      <td>I have decided not to play this game.  I can't keep track of everyone, or play often enough to make it fun.</td>\n      <td>[decid, play, game, keep, track, everyon, play, often, enough, make, fun]</td>\n    </tr>\n    <tr>\n      <th>1</th>\n      <td>The Amazon Appstore free app of the day for June 9th, 2014 is Sudoku by Nikoli Easy 01 from Nikoli Co.As the others have mentioned in their reviews, this Sudoku version is at an average or below average quality.  It has nothing that sets it apart from the many other Android Sudoku apps out there.There was one particular gaming market though where this app and every other Sudoku app has failed to reach:  The Fire TV.  When Amazon announced the Fire TV about 2 months ago, Amazon and other developers were quick to point out how easy it was to make existing game apps compatible with the Fire TV.But after 2 months later after the release of Fire TV, we have several apps that are not very useful for the Fire TV such as a fireplace screensaver and a raindrops screensaver, but NOT a single Sudoku app for the Fire TV exists yet despite TVs and other streaming boxes that have a Sudoku game on them.  How could Amazon let an oversight like this happen?Had this app developer done their homework and made this app be the first Sudoku compatible app for the Fire TV, they might have gotten better reviews and stood out some from the many other Sudoku apps in Amazon's market.It appears our best hope for a Sudoku game to make it to the Fire TV without having to sideload one into the Fire TV is to wait for this \"Spring\" update Amazon has been mentioning forever in what seems to be the \"Longest Spring Ever\".Because of a huge missed opportunity of making this compatible with the Fire TV, that this only contains 20 easy puzzles, and because this app without Fire TV compatibility doesn't stand out from the many other tablet versions of Sudoku out there, I have no choice but to give this about 2 stars out of 5 stars.</td>\n      <td>[amazon, appstor, free, app, day, june, 9th, 2014, sudoku, nikoli, easi, 01, nikoli, co, other, mention, review, sudoku, version, averag, averag, qualiti, noth, set, apart, mani, android, sudoku, app, one, particular, game, market, though, app, everi, sudoku, app, fail, reach, fire, tv, amazon, announc, fire, tv, 2, month, ago, amazon, develop, quick, point, easi, make, exist, game, app, compat, fire, tv, 2, month, later, releas, fire, tv, sever, app, use, fire, tv, fireplac, screensav, raindrop, screensav, singl, sudoku, app, fire, tv, exist, yet, despit, tv, stream, box, sudoku, game, could, amazon, let, oversight, like, happen, app, develop, done, homework, made, ...]</td>\n    </tr>\n    <tr>\n      <th>2</th>\n      <td>this game was so mush fun I wish I could play more. I loved it you just have to pay for up grade</td>\n      <td>[game, mush, fun, wish, could, play, love, pay, grade]</td>\n    </tr>\n    <tr>\n      <th>3</th>\n      <td>Its pretty fun and very good looking,  but you drive like at 300 mph,  its pretty crazy. Overall a good game to get for free today.</td>\n      <td>[pretti, fun, good, look, drive, like, 300, mph, pretti, crazi, overal, good, game, get, free, today]</td>\n    </tr>\n    <tr>\n      <th>4</th>\n      <td>good graphics; immersive storyline; hard to stop once you begin.  a great bargain for entertainment and that's hard to find these days.</td>\n      <td>[good, graphic, immers, storylin, hard, stop, begin, great, bargain, entertain, hard, find, day]</td>\n    </tr>\n  </tbody>\n</table>\n</div>"
     },
     "execution_count": 25,
     "metadata": {},
     "output_type": "execute_result"
    }
   ],
   "source": [
    "pd.set_option('display.max_colwidth', -1)\n",
    "\n",
    "df['text'] = df['reviewText'].apply(clean_doc)\n",
    "df[['reviewText', 'text']].head()"
   ],
   "metadata": {
    "collapsed": false,
    "pycharm": {
     "name": "#%%\n"
    }
   }
  },
  {
   "cell_type": "code",
   "execution_count": 26,
   "outputs": [
    {
     "data": {
      "text/plain": "55575"
     },
     "execution_count": 26,
     "metadata": {},
     "output_type": "execute_result"
    }
   ],
   "source": [
    "train_df, test_df = train_test_split(df, stratify=df['score'], test_size=0.1)\n",
    "test_df.to_csv('test.csv', index=False)\n",
    "# save for future, to prepare script for inference from file\n",
    "len(test_df)"
   ],
   "metadata": {
    "collapsed": false,
    "pycharm": {
     "name": "#%%\n"
    }
   }
  },
  {
   "cell_type": "code",
   "execution_count": null,
   "outputs": [],
   "source": [],
   "metadata": {
    "collapsed": false,
    "pycharm": {
     "name": "#%%\n"
    }
   }
  }
 ],
 "metadata": {
  "kernelspec": {
   "display_name": "Python 3",
   "language": "python",
   "name": "python3"
  },
  "language_info": {
   "codemirror_mode": {
    "name": "ipython",
    "version": 2
   },
   "file_extension": ".py",
   "mimetype": "text/x-python",
   "name": "python",
   "nbconvert_exporter": "python",
   "pygments_lexer": "ipython2",
   "version": "2.7.6"
  }
 },
 "nbformat": 4,
 "nbformat_minor": 0
}